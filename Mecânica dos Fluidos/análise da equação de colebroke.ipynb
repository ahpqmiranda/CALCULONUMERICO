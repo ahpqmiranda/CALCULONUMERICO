{
 "cells": [
  {
   "cell_type": "markdown",
   "source": [
    "# Estudo da equação de Colebroke\n"
   ],
   "metadata": {
    "collapsed": false,
    "pycharm": {
     "name": "#%% md\n"
    }
   }
  },
  {
   "cell_type": "code",
   "execution_count": 133,
   "outputs": [],
   "source": [
    "import numpy as np\n",
    "import pandas as pd\n",
    "import math\n",
    "import sympy as sp\n",
    "import statsmodels.api as sm\n",
    "import matplotlib.pyplot as plt\n",
    "from sklearn.pipeline import make_pipeline\n",
    "from sklearn.preprocessing import PolynomialFeatures\n",
    "from sklearn.linear_model import LinearRegression"
   ],
   "metadata": {
    "collapsed": false,
    "pycharm": {
     "name": "#%%\n"
    }
   }
  },
  {
   "cell_type": "code",
   "execution_count": 134,
   "outputs": [],
   "source": [
    "sp. init_printing(use_latex='png', scale=1.0, order='grlex',\n",
    "                    forecolor='Black', backcolor='White')\n",
    "x = sp.Symbol('x')"
   ],
   "metadata": {
    "collapsed": false,
    "pycharm": {
     "name": "#%%\n"
    }
   }
  },
  {
   "cell_type": "code",
   "execution_count": 135,
   "outputs": [],
   "source": [
    "# rugosidade da tubulação\n",
    "E = 1.22e-5\n",
    "# Diâmetro interno da tubulação\n",
    "D = 0.50\n",
    "# n.º de reynolds para o fluido em questão\n",
    "re = 1.7e+5\n",
    "# (função) fator de atrito\n",
    "start = 1\n",
    "end = 100\n",
    "spaces = 100"
   ],
   "metadata": {
    "collapsed": false,
    "pycharm": {
     "name": "#%%\n"
    }
   }
  },
  {
   "cell_type": "markdown",
   "source": [
    "##### Erro relativo"
   ],
   "metadata": {
    "collapsed": false,
    "pycharm": {
     "name": "#%% md\n"
    }
   }
  },
  {
   "cell_type": "code",
   "execution_count": 136,
   "outputs": [],
   "source": [
    "def erro_relativo(m, n):\n",
    "    erro = math.sqrt(math.pow(m - n, 2) / math.sqrt(math.pow(m, 2))) * 100\n",
    "    return erro"
   ],
   "metadata": {
    "collapsed": false,
    "pycharm": {
     "name": "#%%\n"
    }
   }
  },
  {
   "cell_type": "markdown",
   "source": [
    "##### Equação de Colebroke:"
   ],
   "metadata": {
    "collapsed": false,
    "pycharm": {
     "name": "#%% md\n"
    }
   }
  },
  {
   "cell_type": "code",
   "execution_count": 137,
   "outputs": [
    {
     "data": {
      "text/plain": "-2⋅log(1.47647058823529e-5⋅x + 6.59459459459459e-6)",
      "image/png": "[encoded data removed]"
     },
     "execution_count": 137,
     "metadata": {},
     "output_type": "execute_result"
    }
   ],
   "source": [
    "function = - 2 * sp.log((E / (D * 3.7) + (2.51 * x / re)))\n",
    "function"
   ],
   "metadata": {
    "collapsed": false,
    "pycharm": {
     "name": "#%%\n"
    }
   }
  },
  {
   "cell_type": "markdown",
   "source": [
    "##### Derivada da equação de Colebroke"
   ],
   "metadata": {
    "collapsed": false,
    "pycharm": {
     "name": "#%% md\n"
    }
   }
  },
  {
   "cell_type": "code",
   "execution_count": 138,
   "outputs": [
    {
     "data": {
      "text/plain": "           -2.95294117647059e-5            \n───────────────────────────────────────────\n1.47647058823529e-5⋅x + 6.59459459459459e-6",
      "image/png": "[encoded data removed]"
     },
     "execution_count": 138,
     "metadata": {},
     "output_type": "execute_result"
    }
   ],
   "source": [
    "derivada = function.diff()\n",
    "derivada"
   ],
   "metadata": {
    "collapsed": false,
    "pycharm": {
     "name": "#%%\n"
    }
   }
  },
  {
   "cell_type": "code",
   "execution_count": 139,
   "outputs": [],
   "source": [
    "x_estimado = []\n",
    "f_estimado = []\n",
    "erro_estimado = []"
   ],
   "metadata": {
    "collapsed": false,
    "pycharm": {
     "name": "#%%\n"
    }
   }
  },
  {
   "cell_type": "code",
   "execution_count": 144,
   "outputs": [],
   "source": [
    "def newton_raphson(tol):\n",
    "    erro = 1\n",
    "    i = 0\n",
    "    c = 4.8\n",
    "    while tol < erro:\n",
    "        y = c - function.subs({x:c}) / derivada.subs({x:c})\n",
    "        i = i + 1\n",
    "        erro = erro_relativo(y, c)\n",
    "        c = y\n",
    "        x_estimado.append(y)\n",
    "        f_estimado.append(function.subs({x:y}))\n",
    "        erro_estimado.append(erro)\n",
    "\n",
    "    return print('processo finalizado: {}'.format(c))"
   ],
   "metadata": {
    "collapsed": false,
    "pycharm": {
     "name": "#%%\n"
    }
   }
  },
  {
   "cell_type": "code",
   "execution_count": 141,
   "outputs": [
    {
     "name": "stdout",
     "output_type": "stream",
     "text": [
      "processo finalizado: 67728.6370194896\n"
     ]
    }
   ],
   "source": [
    "r = float(input('digite a ordem da tolerância:\\n'))\n",
    "newton_raphson(r)"
   ],
   "metadata": {
    "collapsed": false,
    "pycharm": {
     "name": "#%%\n"
    }
   }
  },
  {
   "cell_type": "code",
   "execution_count": 142,
   "outputs": [
    {
     "data": {
      "text/plain": "          x estimado            f estimado  erro associado\n0   54.4630810495541      14.2351609104582    6.729496e+02\n1   445.287480024930      10.0470966379048    1.852087e+03\n2   2684.45439875881      6.45574362303911    4.321738e+03\n3   11350.9707973679      3.57234612582339    8.134447e+03\n4   31626.5668603079      1.52300814141348    1.140112e+04\n5   55710.6663895435     0.390672081956486    1.020378e+04\n6   66593.0546483685    0.0338173785723730    4.217060e+03\n7   67719.0634702317  0.000282721259972976    4.326994e+02\n8   67728.6363428441   1.99809445543547e-8    3.678376e+00\n9   67728.6370194896  2.22044604925031e-16    2.600010e-04\n10  67728.6370194896                     0    5.591573e-12",
      "text/html": "<div>\n<style scoped>\n    .dataframe tbody tr th:only-of-type {\n        vertical-align: middle;\n    }\n\n    .dataframe tbody tr th {\n        vertical-align: top;\n    }\n\n    .dataframe thead th {\n        text-align: right;\n    }\n</style>\n<table border=\"1\" class=\"dataframe\">\n  <thead>\n    <tr style=\"text-align: right;\">\n      <th></th>\n      <th>x estimado</th>\n      <th>f estimado</th>\n      <th>erro associado</th>\n    </tr>\n  </thead>\n  <tbody>\n    <tr>\n      <th>0</th>\n      <td>54.4630810495541</td>\n      <td>14.2351609104582</td>\n      <td>6.729496e+02</td>\n    </tr>\n    <tr>\n      <th>1</th>\n      <td>445.287480024930</td>\n      <td>10.0470966379048</td>\n      <td>1.852087e+03</td>\n    </tr>\n    <tr>\n      <th>2</th>\n      <td>2684.45439875881</td>\n      <td>6.45574362303911</td>\n      <td>4.321738e+03</td>\n    </tr>\n    <tr>\n      <th>3</th>\n      <td>11350.9707973679</td>\n      <td>3.57234612582339</td>\n      <td>8.134447e+03</td>\n    </tr>\n    <tr>\n      <th>4</th>\n      <td>31626.5668603079</td>\n      <td>1.52300814141348</td>\n      <td>1.140112e+04</td>\n    </tr>\n    <tr>\n      <th>5</th>\n      <td>55710.6663895435</td>\n      <td>0.390672081956486</td>\n      <td>1.020378e+04</td>\n    </tr>\n    <tr>\n      <th>6</th>\n      <td>66593.0546483685</td>\n      <td>0.0338173785723730</td>\n      <td>4.217060e+03</td>\n    </tr>\n    <tr>\n      <th>7</th>\n      <td>67719.0634702317</td>\n      <td>0.000282721259972976</td>\n      <td>4.326994e+02</td>\n    </tr>\n    <tr>\n      <th>8</th>\n      <td>67728.6363428441</td>\n      <td>1.99809445543547e-8</td>\n      <td>3.678376e+00</td>\n    </tr>\n    <tr>\n      <th>9</th>\n      <td>67728.6370194896</td>\n      <td>2.22044604925031e-16</td>\n      <td>2.600010e-04</td>\n    </tr>\n    <tr>\n      <th>10</th>\n      <td>67728.6370194896</td>\n      <td>0</td>\n      <td>5.591573e-12</td>\n    </tr>\n  </tbody>\n</table>\n</div>"
     },
     "execution_count": 142,
     "metadata": {},
     "output_type": "execute_result"
    }
   ],
   "source": [
    "data_df = pd.DataFrame({\n",
    "    'x estimado': x_estimado,\n",
    "    'f estimado': f_estimado,\n",
    "    'erro associado': erro_estimado\n",
    "\n",
    "})\n",
    "data_df"
   ],
   "metadata": {
    "collapsed": false,
    "pycharm": {
     "name": "#%%\n"
    }
   }
  },
  {
   "cell_type": "code",
   "execution_count": 143,
   "outputs": [
    {
     "ename": "TypeError",
     "evalue": "ufunc 'isfinite' not supported for the input types, and the inputs could not be safely coerced to any supported types according to the casting rule ''safe''",
     "output_type": "error",
     "traceback": [
      "\u001B[1;31m---------------------------------------------------------------------------\u001B[0m",
      "\u001B[1;31mTypeError\u001B[0m                                 Traceback (most recent call last)",
      "Input \u001B[1;32mIn [143]\u001B[0m, in \u001B[0;36m<cell line: 12>\u001B[1;34m()\u001B[0m\n\u001B[0;32m     10\u001B[0m plt\u001B[38;5;241m.\u001B[39mplot(x, m3, \u001B[38;5;124m'\u001B[39m\u001B[38;5;124mb\u001B[39m\u001B[38;5;124m'\u001B[39m)\n\u001B[0;32m     11\u001B[0m plt\u001B[38;5;241m.\u001B[39mlegend([\u001B[38;5;124m\"\u001B[39m\u001B[38;5;124mfator de atrito\u001B[39m\u001B[38;5;124m\"\u001B[39m,\u001B[38;5;124m\"\u001B[39m\u001B[38;5;124meq. colebroke\u001B[39m\u001B[38;5;124m\"\u001B[39m, \u001B[38;5;124m\"\u001B[39m\u001B[38;5;124merro associado\u001B[39m\u001B[38;5;124m\"\u001B[39m])\n\u001B[1;32m---> 12\u001B[0m \u001B[43mplt\u001B[49m\u001B[38;5;241;43m.\u001B[39;49m\u001B[43maxis\u001B[49m\u001B[43m(\u001B[49m\u001B[43m[\u001B[49m\u001B[38;5;241;43m0\u001B[39;49m\u001B[43m,\u001B[49m\u001B[38;5;28;43mlen\u001B[39;49m\u001B[43m(\u001B[49m\u001B[43mm1\u001B[49m\u001B[43m)\u001B[49m\u001B[43m,\u001B[49m\u001B[38;5;28;43mmax\u001B[39;49m\u001B[43m(\u001B[49m\u001B[43mm1\u001B[49m\u001B[43m)\u001B[49m\u001B[43m,\u001B[49m\u001B[38;5;28;43mmin\u001B[39;49m\u001B[43m(\u001B[49m\u001B[43mm1\u001B[49m\u001B[43m)\u001B[49m\u001B[43m]\u001B[49m\u001B[43m)\u001B[49m\n\u001B[0;32m     13\u001B[0m plt\u001B[38;5;241m.\u001B[39mxlabel(\u001B[38;5;124m'\u001B[39m\u001B[38;5;124mIterações\u001B[39m\u001B[38;5;124m'\u001B[39m)\n\u001B[0;32m     14\u001B[0m plt\u001B[38;5;241m.\u001B[39mylabel(\u001B[38;5;124m'\u001B[39m\u001B[38;5;124mAproximações\u001B[39m\u001B[38;5;124m'\u001B[39m)\n",
      "File \u001B[1;32m~\\anaconda3\\envs\\mathplots\\lib\\site-packages\\matplotlib\\pyplot.py:2361\u001B[0m, in \u001B[0;36maxis\u001B[1;34m(emit, *args, **kwargs)\u001B[0m\n\u001B[0;32m   2359\u001B[0m \u001B[38;5;129m@_copy_docstring_and_deprecators\u001B[39m(Axes\u001B[38;5;241m.\u001B[39maxis)\n\u001B[0;32m   2360\u001B[0m \u001B[38;5;28;01mdef\u001B[39;00m \u001B[38;5;21maxis\u001B[39m(\u001B[38;5;241m*\u001B[39margs, emit\u001B[38;5;241m=\u001B[39m\u001B[38;5;28;01mTrue\u001B[39;00m, \u001B[38;5;241m*\u001B[39m\u001B[38;5;241m*\u001B[39mkwargs):\n\u001B[1;32m-> 2361\u001B[0m     \u001B[38;5;28;01mreturn\u001B[39;00m gca()\u001B[38;5;241m.\u001B[39maxis(\u001B[38;5;241m*\u001B[39margs, emit\u001B[38;5;241m=\u001B[39memit, \u001B[38;5;241m*\u001B[39m\u001B[38;5;241m*\u001B[39mkwargs)\n",
      "File \u001B[1;32m~\\anaconda3\\envs\\mathplots\\lib\\site-packages\\matplotlib\\axes\\_base.py:2092\u001B[0m, in \u001B[0;36m_AxesBase.axis\u001B[1;34m(self, emit, *args, **kwargs)\u001B[0m\n\u001B[0;32m   2088\u001B[0m     yauto \u001B[38;5;241m=\u001B[39m (\u001B[38;5;28;01mNone\u001B[39;00m\n\u001B[0;32m   2089\u001B[0m              \u001B[38;5;28;01mif\u001B[39;00m ymin \u001B[38;5;129;01mis\u001B[39;00m \u001B[38;5;28;01mNone\u001B[39;00m \u001B[38;5;129;01mand\u001B[39;00m ymax \u001B[38;5;129;01mis\u001B[39;00m \u001B[38;5;28;01mNone\u001B[39;00m\n\u001B[0;32m   2090\u001B[0m              \u001B[38;5;28;01melse\u001B[39;00m \u001B[38;5;28;01mFalse\u001B[39;00m)\n\u001B[0;32m   2091\u001B[0m     \u001B[38;5;28mself\u001B[39m\u001B[38;5;241m.\u001B[39mset_xlim(xmin, xmax, emit\u001B[38;5;241m=\u001B[39memit, auto\u001B[38;5;241m=\u001B[39mxauto)\n\u001B[1;32m-> 2092\u001B[0m     \u001B[38;5;28;43mself\u001B[39;49m\u001B[38;5;241;43m.\u001B[39;49m\u001B[43mset_ylim\u001B[49m\u001B[43m(\u001B[49m\u001B[43mymin\u001B[49m\u001B[43m,\u001B[49m\u001B[43m \u001B[49m\u001B[43mymax\u001B[49m\u001B[43m,\u001B[49m\u001B[43m \u001B[49m\u001B[43memit\u001B[49m\u001B[38;5;241;43m=\u001B[39;49m\u001B[43memit\u001B[49m\u001B[43m,\u001B[49m\u001B[43m \u001B[49m\u001B[43mauto\u001B[49m\u001B[38;5;241;43m=\u001B[39;49m\u001B[43myauto\u001B[49m\u001B[43m)\u001B[49m\n\u001B[0;32m   2093\u001B[0m \u001B[38;5;28;01mif\u001B[39;00m kwargs:\n\u001B[0;32m   2094\u001B[0m     \u001B[38;5;28;01mraise\u001B[39;00m \u001B[38;5;167;01mTypeError\u001B[39;00m(\u001B[38;5;124mf\u001B[39m\u001B[38;5;124m\"\u001B[39m\u001B[38;5;124maxis() got an unexpected keyword argument \u001B[39m\u001B[38;5;124m\"\u001B[39m\n\u001B[0;32m   2095\u001B[0m                     \u001B[38;5;124mf\u001B[39m\u001B[38;5;124m\"\u001B[39m\u001B[38;5;124m'\u001B[39m\u001B[38;5;132;01m{\u001B[39;00m\u001B[38;5;28mnext\u001B[39m(\u001B[38;5;28miter\u001B[39m(kwargs))\u001B[38;5;132;01m}\u001B[39;00m\u001B[38;5;124m'\u001B[39m\u001B[38;5;124m\"\u001B[39m)\n",
      "File \u001B[1;32m~\\anaconda3\\envs\\mathplots\\lib\\site-packages\\matplotlib\\axes\\_base.py:4018\u001B[0m, in \u001B[0;36m_AxesBase.set_ylim\u001B[1;34m(self, bottom, top, emit, auto, ymin, ymax)\u001B[0m\n\u001B[0;32m   4015\u001B[0m     top \u001B[38;5;241m=\u001B[39m ymax\n\u001B[0;32m   4017\u001B[0m \u001B[38;5;28mself\u001B[39m\u001B[38;5;241m.\u001B[39m_process_unit_info([(\u001B[38;5;124m\"\u001B[39m\u001B[38;5;124my\u001B[39m\u001B[38;5;124m\"\u001B[39m, (bottom, top))], convert\u001B[38;5;241m=\u001B[39m\u001B[38;5;28;01mFalse\u001B[39;00m)\n\u001B[1;32m-> 4018\u001B[0m bottom \u001B[38;5;241m=\u001B[39m \u001B[38;5;28;43mself\u001B[39;49m\u001B[38;5;241;43m.\u001B[39;49m\u001B[43m_validate_converted_limits\u001B[49m\u001B[43m(\u001B[49m\u001B[43mbottom\u001B[49m\u001B[43m,\u001B[49m\u001B[43m \u001B[49m\u001B[38;5;28;43mself\u001B[39;49m\u001B[38;5;241;43m.\u001B[39;49m\u001B[43mconvert_yunits\u001B[49m\u001B[43m)\u001B[49m\n\u001B[0;32m   4019\u001B[0m top \u001B[38;5;241m=\u001B[39m \u001B[38;5;28mself\u001B[39m\u001B[38;5;241m.\u001B[39m_validate_converted_limits(top, \u001B[38;5;28mself\u001B[39m\u001B[38;5;241m.\u001B[39mconvert_yunits)\n\u001B[0;32m   4021\u001B[0m \u001B[38;5;28;01mif\u001B[39;00m bottom \u001B[38;5;129;01mis\u001B[39;00m \u001B[38;5;28;01mNone\u001B[39;00m \u001B[38;5;129;01mor\u001B[39;00m top \u001B[38;5;129;01mis\u001B[39;00m \u001B[38;5;28;01mNone\u001B[39;00m:\n\u001B[0;32m   4022\u001B[0m     \u001B[38;5;66;03m# Axes init calls set_ylim(0, 1) before get_ylim() can be called,\u001B[39;00m\n\u001B[0;32m   4023\u001B[0m     \u001B[38;5;66;03m# so only grab the limits if we really need them.\u001B[39;00m\n",
      "File \u001B[1;32m~\\anaconda3\\envs\\mathplots\\lib\\site-packages\\matplotlib\\axes\\_base.py:3604\u001B[0m, in \u001B[0;36m_AxesBase._validate_converted_limits\u001B[1;34m(self, limit, convert)\u001B[0m\n\u001B[0;32m   3601\u001B[0m \u001B[38;5;28;01mif\u001B[39;00m limit \u001B[38;5;129;01mis\u001B[39;00m \u001B[38;5;129;01mnot\u001B[39;00m \u001B[38;5;28;01mNone\u001B[39;00m:\n\u001B[0;32m   3602\u001B[0m     converted_limit \u001B[38;5;241m=\u001B[39m convert(limit)\n\u001B[0;32m   3603\u001B[0m     \u001B[38;5;28;01mif\u001B[39;00m (\u001B[38;5;28misinstance\u001B[39m(converted_limit, Real)\n\u001B[1;32m-> 3604\u001B[0m             \u001B[38;5;129;01mand\u001B[39;00m \u001B[38;5;129;01mnot\u001B[39;00m \u001B[43mnp\u001B[49m\u001B[38;5;241;43m.\u001B[39;49m\u001B[43misfinite\u001B[49m\u001B[43m(\u001B[49m\u001B[43mconverted_limit\u001B[49m\u001B[43m)\u001B[49m):\n\u001B[0;32m   3605\u001B[0m         \u001B[38;5;28;01mraise\u001B[39;00m \u001B[38;5;167;01mValueError\u001B[39;00m(\u001B[38;5;124m\"\u001B[39m\u001B[38;5;124mAxis limits cannot be NaN or Inf\u001B[39m\u001B[38;5;124m\"\u001B[39m)\n\u001B[0;32m   3606\u001B[0m     \u001B[38;5;28;01mreturn\u001B[39;00m converted_limit\n",
      "\u001B[1;31mTypeError\u001B[0m: ufunc 'isfinite' not supported for the input types, and the inputs could not be safely coerced to any supported types according to the casting rule ''safe''"
     ]
    },
    {
     "data": {
      "text/plain": "<Figure size 720x432 with 1 Axes>",
      "image/png": "[encoded data removed]"
     },
     "metadata": {},
     "output_type": "display_data"
    }
   ],
   "source": [
    "plt.style.use('seaborn-bright')\n",
    "fig = plt.figure(figsize=(10, 6))\n",
    "m1 = data_df['x estimado']\n",
    "m2 = data_df['f estimado']\n",
    "m3 = data_df['erro associado']\n",
    "x = np.array(range(len(m1)))\n",
    "\n",
    "plt.plot(x, m1, 'r')\n",
    "plt.plot(x, m2, 'g')\n",
    "plt.plot(x, m3, 'b')\n",
    "plt.legend([\"fator de atrito\",\"eq. colebroke\", \"erro associado\"])\n",
    "plt.axis([0,len(m1),max(m1),min(m1)])\n",
    "plt.xlabel('Iterações')\n",
    "plt.ylabel('Aproximações')\n",
    "plt.title('Método de Newton Raphson')\n",
    "plt.grid(True)\n",
    "plt.show()"
   ],
   "metadata": {
    "collapsed": false,
    "pycharm": {
     "name": "#%%\n"
    }
   }
  },
  {
   "cell_type": "code",
   "execution_count": 149,
   "outputs": [
    {
     "name": "stderr",
     "output_type": "stream",
     "text": [
      "C:\\Users\\alana\\anaconda3\\envs\\mathplots\\lib\\site-packages\\sklearn\\base.py:450: UserWarning: X does not have valid feature names, but PolynomialFeatures was fitted with feature names\n",
      "  warnings.warn(\n"
     ]
    },
    {
     "data": {
      "text/plain": "<Figure size 720x432 with 1 Axes>",
      "image/png": "[encoded data removed]"
     },
     "metadata": {},
     "output_type": "display_data"
    }
   ],
   "source": [
    "rugosidade = lambda f: - 2 * np.log10((E / (D * 3.7) + (2.51 * f / re)))\n",
    "list_rugosidade = []\n",
    "\n",
    "for x in np.linspace(start, end, spaces):\n",
    "    list_rugosidade.append(rugosidade(x))\n",
    "\n",
    "x_interval = np.log(np.linspace(start, end, spaces))\n",
    "xdic = {'X':np.exp(x_interval)}\n",
    "ydic = {'Y':np.exp(list_rugosidade)}\n",
    "\n",
    "X = pd.DataFrame.from_dict(xdic)\n",
    "Y = pd.DataFrame.from_dict(ydic)\n",
    "\n",
    "x_SEQ = np.linspace(X.min(),X.max(),spaces).reshape(-1,1)\n",
    "\n",
    "value =6 # grau do polinômio\n",
    "\n",
    "polynomial_regression = make_pipeline(PolynomialFeatures(value),LinearRegression())\n",
    "polynomial_regression.fit(X,Y)\n",
    "\n",
    "plt.figure(figsize=(10, 6))\n",
    "plt.scatter(X,Y)\n",
    "plt.plot(x_SEQ, polynomial_regression.predict(x_SEQ),color='g')\n",
    "plt.title('Regressão Polinomial (log x log) de ordem: '+str(value))\n",
    "plt.grid(True)\n",
    "plt.legend([\"Dados amostrais\",\"Interpolador Polinomial\"])\n",
    "plt.xlabel(\"Rugosidade\")\n",
    "plt.ylabel(\"Perda de Carga\")\n",
    "plt.show()\n"
   ],
   "metadata": {
    "collapsed": false,
    "pycharm": {
     "name": "#%%\n"
    }
   }
  },
  {
   "cell_type": "code",
   "execution_count": 151,
   "outputs": [
    {
     "data": {
      "text/plain": "<class 'statsmodels.iolib.summary.Summary'>\n\"\"\"\n                            OLS Regression Results                            \n==============================================================================\nDep. Variable:                      Y   R-squared:                       0.349\nModel:                            OLS   Adj. R-squared:                  0.343\nMethod:                 Least Squares   F-statistic:                     52.63\nDate:                Wed, 22 Jun 2022   Prob (F-statistic):           9.52e-11\nTime:                        20:18:36   Log-Likelihood:                -850.78\nNo. Observations:                 100   AIC:                             1706.\nDf Residuals:                      98   BIC:                             1711.\nDf Model:                           1                                         \nCovariance Type:            nonrobust                                         \n==============================================================================\n                 coef    std err          t      P>|t|      [0.025      0.975]\n------------------------------------------------------------------------------\nconst       2535.9768    243.971     10.395      0.000    2051.825    3020.129\nX            -30.4275      4.194     -7.255      0.000     -38.751     -22.104\n==============================================================================\nOmnibus:                      137.355   Durbin-Watson:                   0.157\nProb(Omnibus):                  0.000   Jarque-Bera (JB):             4185.491\nSkew:                           4.829   Prob(JB):                         0.00\nKurtosis:                      33.187   Cond. No.                         117.\n==============================================================================\n\nNotes:\n[1] Standard Errors assume that the covariance matrix of the errors is correctly specified.\n\"\"\"",
      "text/html": "<table class=\"simpletable\">\n<caption>OLS Regression Results</caption>\n<tr>\n  <th>Dep. Variable:</th>            <td>Y</td>        <th>  R-squared:         </th> <td>   0.349</td>\n</tr>\n<tr>\n  <th>Model:</th>                   <td>OLS</td>       <th>  Adj. R-squared:    </th> <td>   0.343</td>\n</tr>\n<tr>\n  <th>Method:</th>             <td>Least Squares</td>  <th>  F-statistic:       </th> <td>   52.63</td>\n</tr>\n<tr>\n  <th>Date:</th>             <td>Wed, 22 Jun 2022</td> <th>  Prob (F-statistic):</th> <td>9.52e-11</td>\n</tr>\n<tr>\n  <th>Time:</th>                 <td>20:18:36</td>     <th>  Log-Likelihood:    </th> <td> -850.78</td>\n</tr>\n<tr>\n  <th>No. Observations:</th>      <td>   100</td>      <th>  AIC:               </th> <td>   1706.</td>\n</tr>\n<tr>\n  <th>Df Residuals:</th>          <td>    98</td>      <th>  BIC:               </th> <td>   1711.</td>\n</tr>\n<tr>\n  <th>Df Model:</th>              <td>     1</td>      <th>                     </th>     <td> </td>   \n</tr>\n<tr>\n  <th>Covariance Type:</th>      <td>nonrobust</td>    <th>                     </th>     <td> </td>   \n</tr>\n</table>\n<table class=\"simpletable\">\n<tr>\n    <td></td>       <th>coef</th>     <th>std err</th>      <th>t</th>      <th>P>|t|</th>  <th>[0.025</th>    <th>0.975]</th>  \n</tr>\n<tr>\n  <th>const</th> <td> 2535.9768</td> <td>  243.971</td> <td>   10.395</td> <td> 0.000</td> <td> 2051.825</td> <td> 3020.129</td>\n</tr>\n<tr>\n  <th>X</th>     <td>  -30.4275</td> <td>    4.194</td> <td>   -7.255</td> <td> 0.000</td> <td>  -38.751</td> <td>  -22.104</td>\n</tr>\n</table>\n<table class=\"simpletable\">\n<tr>\n  <th>Omnibus:</th>       <td>137.355</td> <th>  Durbin-Watson:     </th> <td>   0.157</td>\n</tr>\n<tr>\n  <th>Prob(Omnibus):</th> <td> 0.000</td>  <th>  Jarque-Bera (JB):  </th> <td>4185.491</td>\n</tr>\n<tr>\n  <th>Skew:</th>          <td> 4.829</td>  <th>  Prob(JB):          </th> <td>    0.00</td>\n</tr>\n<tr>\n  <th>Kurtosis:</th>      <td>33.187</td>  <th>  Cond. No.          </th> <td>    117.</td>\n</tr>\n</table><br/><br/>Notes:<br/>[1] Standard Errors assume that the covariance matrix of the errors is correctly specified."
     },
     "execution_count": 151,
     "metadata": {},
     "output_type": "execute_result"
    }
   ],
   "source": [
    "X = sm.add_constant(X)\n",
    "resultados = sm.OLS(Y, X).fit()\n",
    "resultados.summary()"
   ],
   "metadata": {
    "collapsed": false,
    "pycharm": {
     "name": "#%%\n"
    }
   }
  },
  {
   "cell_type": "code",
   "execution_count": 154,
   "outputs": [
    {
     "data": {
      "text/plain": "const    2535.976848\nX         -30.427457\ndtype: float64"
     },
     "execution_count": 154,
     "metadata": {},
     "output_type": "execute_result"
    }
   ],
   "source": [
    "resultados.params"
   ],
   "metadata": {
    "collapsed": false,
    "pycharm": {
     "name": "#%%\n"
    }
   }
  },
  {
   "cell_type": "code",
   "execution_count": 152,
   "outputs": [
    {
     "data": {
      "text/plain": "const    10.394591\nX        -7.254556\ndtype: float64"
     },
     "execution_count": 152,
     "metadata": {},
     "output_type": "execute_result"
    }
   ],
   "source": [
    "resultados.tvalues"
   ],
   "metadata": {
    "collapsed": false,
    "pycharm": {
     "name": "#%%\n"
    }
   }
  },
  {
   "cell_type": "code",
   "execution_count": 153,
   "outputs": [
    {
     "data": {
      "text/plain": "<class 'statsmodels.stats.contrast.ContrastResults'>\n                             Test for Constraints                             \n==============================================================================\n                 coef    std err          t      P>|t|      [0.025      0.975]\n------------------------------------------------------------------------------\nc0          2535.9768    243.971     10.395      0.000    2051.825    3020.129\n=============================================================================="
     },
     "execution_count": 153,
     "metadata": {},
     "output_type": "execute_result"
    }
   ],
   "source": [
    "resultados.t_test([1, 0])"
   ],
   "metadata": {
    "collapsed": false,
    "pycharm": {
     "name": "#%%\n"
    }
   }
  },
  {
   "cell_type": "code",
   "execution_count": 155,
   "outputs": [
    {
     "data": {
      "text/plain": "<class 'statsmodels.stats.contrast.ContrastResults'>\n<F test: F=60.38297240639868, p=8.148386108925494e-18, df_denom=98, df_num=2>"
     },
     "execution_count": 155,
     "metadata": {},
     "output_type": "execute_result"
    }
   ],
   "source": [
    "resultados.f_test(np.identity(2))"
   ],
   "metadata": {
    "collapsed": false,
    "pycharm": {
     "name": "#%%\n"
    }
   }
  },
  {
   "cell_type": "markdown",
   "source": [],
   "metadata": {
    "collapsed": false,
    "pycharm": {
     "name": "#%% md\n"
    }
   }
  }
 ],
 "metadata": {
  "kernelspec": {
   "display_name": "Python 3",
   "language": "python",
   "name": "python3"
  },
  "language_info": {
   "codemirror_mode": {
    "name": "ipython",
    "version": 2
   },
   "file_extension": ".py",
   "mimetype": "text/x-python",
   "name": "python",
   "nbconvert_exporter": "python",
   "pygments_lexer": "ipython2",
   "version": "2.7.6"
  }
 },
 "nbformat": 4,
 "nbformat_minor": 0
}