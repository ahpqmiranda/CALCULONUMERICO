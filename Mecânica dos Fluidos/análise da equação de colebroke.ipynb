{
 "cells": [
  {
   "cell_type": "markdown",
   "source": [
    "# Estudo da equação de Colebroke\n"
   ],
   "metadata": {
    "collapsed": false,
    "pycharm": {
     "name": "#%% md\n"
    }
   }
  },
  {
   "cell_type": "code",
   "execution_count": 276,
   "outputs": [],
   "source": [
    "import numpy as np\n",
    "import pandas as pd\n",
    "import math\n",
    "import sympy as sp\n",
    "import matplotlib.pyplot as plt\n",
    "from sklearn.pipeline import make_pipeline\n",
    "from sklearn.preprocessing import PolynomialFeatures\n",
    "from sklearn.linear_model import LinearRegression"
   ],
   "metadata": {
    "collapsed": false,
    "pycharm": {
     "name": "#%%\n"
    }
   }
  },
  {
   "cell_type": "code",
   "execution_count": 277,
   "outputs": [],
   "source": [
    "sp. init_printing(use_latex='png', scale=1.0, order='grlex',\n",
    "                    forecolor='Black', backcolor='White')\n",
    "x = sp.Symbol('x')"
   ],
   "metadata": {
    "collapsed": false,
    "pycharm": {
     "name": "#%%\n"
    }
   }
  },
  {
   "cell_type": "code",
   "execution_count": 278,
   "outputs": [],
   "source": [
    "# rugosidade da tubulação\n",
    "E = 1\n",
    "# Diâmetro interno da tubulação\n",
    "D = 1\n",
    "# nº de reynolds para o fluido em questão\n",
    "re = 1\n",
    "# função fator de atrito"
   ],
   "metadata": {
    "collapsed": false,
    "pycharm": {
     "name": "#%%\n"
    }
   }
  },
  {
   "cell_type": "markdown",
   "source": [
    "##### Erro relativo"
   ],
   "metadata": {
    "collapsed": false,
    "pycharm": {
     "name": "#%% md\n"
    }
   }
  },
  {
   "cell_type": "code",
   "execution_count": 279,
   "outputs": [],
   "source": [
    "def erro_relativo(m, n):\n",
    "    erro = math.sqrt(math.pow(m - n, 2) / math.sqrt(math.pow(m, 2))) * 100\n",
    "    return erro"
   ],
   "metadata": {
    "collapsed": false,
    "pycharm": {
     "name": "#%%\n"
    }
   }
  },
  {
   "cell_type": "markdown",
   "source": [
    "##### Equação de Colebroke:"
   ],
   "metadata": {
    "collapsed": false,
    "pycharm": {
     "name": "#%% md\n"
    }
   }
  },
  {
   "cell_type": "code",
   "execution_count": 280,
   "outputs": [
    {
     "data": {
      "text/plain": " -0.5        ⎛                   2.51⎞\nx     - 2⋅log⎜0.27027027027027 + ────⎟\n             ⎝                    x  ⎠",
      "image/png": "[encoded data removed]"
     },
     "execution_count": 280,
     "metadata": {},
     "output_type": "execute_result"
    }
   ],
   "source": [
    "function = 1 / x ** (1/2) - 2 * sp.log((E / (D * 3.7) + (2.51 / (re * x))))\n",
    "function"
   ],
   "metadata": {
    "collapsed": false,
    "pycharm": {
     "name": "#%%\n"
    }
   }
  },
  {
   "cell_type": "markdown",
   "source": [
    "##### Derivada da equação de Colebroke"
   ],
   "metadata": {
    "collapsed": false,
    "pycharm": {
     "name": "#%% md\n"
    }
   }
  },
  {
   "cell_type": "code",
   "execution_count": 281,
   "outputs": [
    {
     "data": {
      "text/plain": "       -1.5               5.02            \n- 0.5⋅x     + ────────────────────────────\n               2 ⎛                   2.51⎞\n              x ⋅⎜0.27027027027027 + ────⎟\n                 ⎝                    x  ⎠",
      "image/png": "[encoded data removed]"
     },
     "execution_count": 281,
     "metadata": {},
     "output_type": "execute_result"
    }
   ],
   "source": [
    "derivada = function.diff()\n",
    "derivada"
   ],
   "metadata": {
    "collapsed": false,
    "pycharm": {
     "name": "#%%\n"
    }
   }
  },
  {
   "cell_type": "code",
   "execution_count": 282,
   "outputs": [],
   "source": [
    "x_estimado = []\n",
    "f_estimado = []\n",
    "erro_estimado = []"
   ],
   "metadata": {
    "collapsed": false,
    "pycharm": {
     "name": "#%%\n"
    }
   }
  },
  {
   "cell_type": "code",
   "execution_count": 283,
   "outputs": [],
   "source": [
    "def newton_raphson(tol):\n",
    "    global erro\n",
    "    erro = 1\n",
    "    y = 1\n",
    "    i = 0\n",
    "    c = 4.8\n",
    "    while tol < erro:\n",
    "        y = c - function.subs({x:c}) / derivada.subs({x:c})\n",
    "        i = i + 1\n",
    "        erro = erro_relativo(y, c)\n",
    "        c = y\n",
    "        x_estimado.append(y)\n",
    "        f_estimado.append(function.subs({x:y}))\n",
    "        erro_estimado.append(erro)\n",
    "\n",
    "    return print('processo finalizado: {}'.format(c))"
   ],
   "metadata": {
    "collapsed": false,
    "pycharm": {
     "name": "#%%\n"
    }
   }
  },
  {
   "cell_type": "code",
   "execution_count": 284,
   "outputs": [
    {
     "name": "stdout",
     "output_type": "stream",
     "text": [
      "processo finalizado: 2.22534632770277\n"
     ]
    }
   ],
   "source": [
    "r = float(input('digite a ordem da tolerancia:\\n'))\n",
    "newton_raphson(r)"
   ],
   "metadata": {
    "collapsed": false,
    "pycharm": {
     "name": "#%%\n"
    }
   }
  },
  {
   "cell_type": "code",
   "execution_count": 285,
   "outputs": [
    {
     "data": {
      "text/plain": "          x estimado             f estimado  erro associado\n0  0.750505823054011      -1.41569606512463      467.437710\n1   1.58493980102466     -0.440295232698661       66.280472\n2   2.11712461577717    -0.0638977939674874       36.575415\n3   2.22239446513204   -0.00169678208685875        7.061443\n4   2.22534414846854   -1.25173851617255e-6        0.197732\n5   2.22534632770277  -6.82010004027234e-13        0.000146",
      "text/html": "<div>\n<style scoped>\n    .dataframe tbody tr th:only-of-type {\n        vertical-align: middle;\n    }\n\n    .dataframe tbody tr th {\n        vertical-align: top;\n    }\n\n    .dataframe thead th {\n        text-align: right;\n    }\n</style>\n<table border=\"1\" class=\"dataframe\">\n  <thead>\n    <tr style=\"text-align: right;\">\n      <th></th>\n      <th>x estimado</th>\n      <th>f estimado</th>\n      <th>erro associado</th>\n    </tr>\n  </thead>\n  <tbody>\n    <tr>\n      <th>0</th>\n      <td>0.750505823054011</td>\n      <td>-1.41569606512463</td>\n      <td>467.437710</td>\n    </tr>\n    <tr>\n      <th>1</th>\n      <td>1.58493980102466</td>\n      <td>-0.440295232698661</td>\n      <td>66.280472</td>\n    </tr>\n    <tr>\n      <th>2</th>\n      <td>2.11712461577717</td>\n      <td>-0.0638977939674874</td>\n      <td>36.575415</td>\n    </tr>\n    <tr>\n      <th>3</th>\n      <td>2.22239446513204</td>\n      <td>-0.00169678208685875</td>\n      <td>7.061443</td>\n    </tr>\n    <tr>\n      <th>4</th>\n      <td>2.22534414846854</td>\n      <td>-1.25173851617255e-6</td>\n      <td>0.197732</td>\n    </tr>\n    <tr>\n      <th>5</th>\n      <td>2.22534632770277</td>\n      <td>-6.82010004027234e-13</td>\n      <td>0.000146</td>\n    </tr>\n  </tbody>\n</table>\n</div>"
     },
     "execution_count": 285,
     "metadata": {},
     "output_type": "execute_result"
    }
   ],
   "source": [
    "data_df = pd.DataFrame({\n",
    "    'x estimado': x_estimado,\n",
    "    'f estimado': f_estimado,\n",
    "    'erro associado': erro_estimado\n",
    "\n",
    "})\n",
    "data_df"
   ],
   "metadata": {
    "collapsed": false,
    "pycharm": {
     "name": "#%%\n"
    }
   }
  },
  {
   "cell_type": "code",
   "execution_count": 286,
   "outputs": [
    {
     "name": "stderr",
     "output_type": "stream",
     "text": [
      "C:\\Users\\alana\\AppData\\Local\\Temp\\ipykernel_32672\\3462530384.py:9: UserWarning: color is redundantly defined by the 'color' keyword argument and the fmt string \"k--\" (-> color='k'). The keyword argument will take precedence.\n",
      "  plt.plot(x, m1, 'k--', color='red')\n",
      "C:\\Users\\alana\\AppData\\Local\\Temp\\ipykernel_32672\\3462530384.py:12: UserWarning: color is redundantly defined by the 'color' keyword argument and the fmt string \"k\" (-> color=(0.0, 0.0, 0.0, 1)). The keyword argument will take precedence.\n",
      "  plt.plot(x, m2, 'k', color='green')\n"
     ]
    },
    {
     "data": {
      "text/plain": "<Figure size 432x288 with 1 Axes>",
      "image/png": "[encoded data removed]"
     },
     "metadata": {},
     "output_type": "display_data"
    }
   ],
   "source": [
    "plt.style.use('seaborn-bright')\n",
    "fig = plt.figure()\n",
    "m1 = data_df['x estimado']\n",
    "m2 = data_df['f estimado']\n",
    "m3 = data_df['erro associado']\n",
    "x = np.array(range(len(m1)))\n",
    "\n",
    "plt.plot(x, m1, 'r')\n",
    "plt.plot(x, m1, 'k--', color='red')\n",
    "\n",
    "plt.plot(x, m2, 'g')\n",
    "plt.plot(x, m2, 'k', color='green')\n",
    "\n",
    "plt.plot(x, m3, 'b')\n",
    "plt.plot(x, m3, color='blue')\n",
    "\n",
    "plt.axis([0,6,-2,3])\n",
    "plt.xlabel('Iterações')\n",
    "plt.ylabel('Aproximações')\n",
    "plt.title('Método de Newton Raphson')\n",
    "plt.grid(True)\n",
    "\n",
    "plt.show()"
   ],
   "metadata": {
    "collapsed": false,
    "pycharm": {
     "name": "#%%\n"
    }
   }
  },
  {
   "cell_type": "code",
   "execution_count": 287,
   "outputs": [
    {
     "name": "stderr",
     "output_type": "stream",
     "text": [
      "C:\\Users\\alana\\anaconda3\\envs\\mathplots\\lib\\site-packages\\sklearn\\base.py:450: UserWarning: X does not have valid feature names, but PolynomialFeatures was fitted with feature names\n",
      "  warnings.warn(\n"
     ]
    },
    {
     "data": {
      "text/plain": "<Figure size 432x288 with 1 Axes>",
      "image/png": "[encoded data removed]"
     },
     "metadata": {},
     "output_type": "display_data"
    }
   ],
   "source": [
    "rugosidade = lambda x: - 2 * np.log10((E / (D * 3.7) + (2.51 / (re * x))))\n",
    "list_rugosidade = []\n",
    "start = 1\n",
    "end = 100\n",
    "spaces = 100\n",
    "for x in np.linspace(start, end, spaces):\n",
    "    list_rugosidade.append(rugosidade(x))\n",
    "\n",
    "x_interval = np.log(np.linspace(start, end, spaces))\n",
    "xdic = {'X':np.exp(x_interval)}\n",
    "ydic = {'Y':np.exp(list_rugosidade)}\n",
    "\n",
    "X = pd.DataFrame.from_dict(xdic)\n",
    "Y = pd.DataFrame.from_dict(ydic)\n",
    "\n",
    "x_SEQ = np.linspace(X.min(),X.max(),spaces).reshape(-1,1)\n",
    "\n",
    "value = 5 # grau do polinômio\n",
    "\n",
    "polynomial_regression = make_pipeline(PolynomialFeatures(value),LinearRegression())\n",
    "polynomial_regression.fit(X,Y)\n",
    "\n",
    "plt.figure()\n",
    "plt.scatter(X,Y)\n",
    "plt.plot(x_SEQ, polynomial_regression.predict(x_SEQ),color='Green')\n",
    "plt.title('Regressão Polinomial (log x log) de ordem: '+str(value))\n",
    "plt.grid(True)\n",
    "plt.xlabel(\"Rugosidade\")\n",
    "plt.ylabel(\"Perda de Carga\")\n",
    "plt.show()\n"
   ],
   "metadata": {
    "collapsed": false,
    "pycharm": {
     "name": "#%%\n"
    }
   }
  },
  {
   "cell_type": "markdown",
   "source": [],
   "metadata": {
    "collapsed": false,
    "pycharm": {
     "name": "#%% md\n"
    }
   }
  }
 ],
 "metadata": {
  "kernelspec": {
   "display_name": "Python 3",
   "language": "python",
   "name": "python3"
  },
  "language_info": {
   "codemirror_mode": {
    "name": "ipython",
    "version": 2
   },
   "file_extension": ".py",
   "mimetype": "text/x-python",
   "name": "python",
   "nbconvert_exporter": "python",
   "pygments_lexer": "ipython2",
   "version": "2.7.6"
  }
 },
 "nbformat": 4,
 "nbformat_minor": 0
}