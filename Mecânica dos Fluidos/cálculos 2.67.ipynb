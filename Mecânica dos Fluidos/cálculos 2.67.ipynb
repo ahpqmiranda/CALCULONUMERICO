{
 "cells": [
  {
   "cell_type": "code",
   "execution_count": 3,
   "metadata": {
    "collapsed": true,
    "pycharm": {
     "name": "#%%\n"
    }
   },
   "outputs": [],
   "source": [
    "import matplotlib.pyplot as plt\n",
    "import pandas as pd\n",
    "import math\n",
    "import pylab\n",
    "import numpy as np"
   ]
  },
  {
   "cell_type": "code",
   "execution_count": 4,
   "metadata": {
    "pycharm": {
     "name": "#%%\n"
    },
    "scrolled": false
   },
   "outputs": [
    {
     "data": {
      "text/plain": "   Velocidade (RPM)  Vel. Angular (rad/s)  Taxa de Deformação (ω/θ)  \\\n0                10              1.047198                     120.0   \n1                20              2.094395                     240.0   \n2                30              3.141593                     360.0   \n3                40              4.188790                     480.0   \n4                50              5.235988                     600.0   \n5                60              6.283185                     720.0   \n6                70              7.330383                     840.0   \n7                80              8.377580                     960.0   \n\n   Viscosidade (N.s/m² * 10³)  \n0                       121.0  \n1                       139.0  \n2                       153.0  \n3                       159.0  \n4                       172.0  \n5                       172.0  \n6                       183.0  \n7                       185.0  ",
      "text/html": "<div>\n<style scoped>\n    .dataframe tbody tr th:only-of-type {\n        vertical-align: middle;\n    }\n\n    .dataframe tbody tr th {\n        vertical-align: top;\n    }\n\n    .dataframe thead th {\n        text-align: right;\n    }\n</style>\n<table border=\"1\" class=\"dataframe\">\n  <thead>\n    <tr style=\"text-align: right;\">\n      <th></th>\n      <th>Velocidade (RPM)</th>\n      <th>Vel. Angular (rad/s)</th>\n      <th>Taxa de Deformação (ω/θ)</th>\n      <th>Viscosidade (N.s/m² * 10³)</th>\n    </tr>\n  </thead>\n  <tbody>\n    <tr>\n      <th>0</th>\n      <td>10</td>\n      <td>1.047198</td>\n      <td>120.0</td>\n      <td>121.0</td>\n    </tr>\n    <tr>\n      <th>1</th>\n      <td>20</td>\n      <td>2.094395</td>\n      <td>240.0</td>\n      <td>139.0</td>\n    </tr>\n    <tr>\n      <th>2</th>\n      <td>30</td>\n      <td>3.141593</td>\n      <td>360.0</td>\n      <td>153.0</td>\n    </tr>\n    <tr>\n      <th>3</th>\n      <td>40</td>\n      <td>4.188790</td>\n      <td>480.0</td>\n      <td>159.0</td>\n    </tr>\n    <tr>\n      <th>4</th>\n      <td>50</td>\n      <td>5.235988</td>\n      <td>600.0</td>\n      <td>172.0</td>\n    </tr>\n    <tr>\n      <th>5</th>\n      <td>60</td>\n      <td>6.283185</td>\n      <td>720.0</td>\n      <td>172.0</td>\n    </tr>\n    <tr>\n      <th>6</th>\n      <td>70</td>\n      <td>7.330383</td>\n      <td>840.0</td>\n      <td>183.0</td>\n    </tr>\n    <tr>\n      <th>7</th>\n      <td>80</td>\n      <td>8.377580</td>\n      <td>960.0</td>\n      <td>185.0</td>\n    </tr>\n  </tbody>\n</table>\n</div>"
     },
     "execution_count": 4,
     "metadata": {},
     "output_type": "execute_result"
    }
   ],
   "source": [
    "velocidade = [10, 20, 30, 40, 50, 60, 70, 80]\n",
    "viscosidade = [0.121, 0.139, 0.153, 0.159, 0.172, 0.172, 0.183,0.185]\n",
    "theta = math.radians(0.5) # converte graus para radianos\n",
    "\n",
    "var_veloc = pd.Series(velocidade) #\n",
    "var_visco = pd.Series(viscosidade)\n",
    "var_freq = pd.Series(velocidade)\n",
    "var_freq = var_freq * (2 * math.pi) / 60 # converte a frequência em hz para velocidade angular rad/s\n",
    "var_visco = var_visco * 1000 # viscosidade a 10³\n",
    "angular = var_freq / theta\n",
    "bloco_de_dados = {'Velocidade (RPM)':var_veloc,\n",
    "                  'Vel. Angular (rad/s)':var_freq,\n",
    "                  'Taxa de Deformação (ω/θ)':angular,'Viscosidade (N.s/m² * 10³)':var_visco} #legenda de dicionários em python\n",
    "quadro_info = pd.DataFrame(bloco_de_dados)\n",
    "quadro_info\n",
    "\n"
   ]
  },
  {
   "cell_type": "code",
   "execution_count": 14,
   "metadata": {
    "pycharm": {
     "name": "#%%\n"
    }
   },
   "outputs": [
    {
     "data": {
      "text/plain": "<Figure size 432x288 with 1 Axes>",
      "image/png": "[encoded data removed]"
     },
     "metadata": {
      "needs_background": "light"
     },
     "output_type": "display_data"
    }
   ],
   "source": [
    "plt.plot(angular,var_visco,'g*') #plota os dados brutos da taxa de deformação e a viscosidade\n",
    "ax = plt.gca()\n",
    "ax.set_facecolor('#F8F8FF')\n",
    "plt.grid(True)\n",
    "plt.xlim(100,1000)\n",
    "plt.ylim(100,200)\n",
    "plt.title('Plot: Cisalhamento x Viscosidade')\n",
    "plt.xlabel(\"Cisalhamento (1/s)\")\n",
    "plt.ylabel(\"Viscosidade (N.s/m² * 10³)\")\n",
    "plt.show()"
   ]
  },
  {
   "cell_type": "code",
   "execution_count": 6,
   "outputs": [
    {
     "ename": "TypeError",
     "evalue": "return arrays must be of ArrayType",
     "output_type": "error",
     "traceback": [
      "\u001B[1;31m---------------------------------------------------------------------------\u001B[0m",
      "\u001B[1;31mTypeError\u001B[0m                                 Traceback (most recent call last)",
      "Input \u001B[1;32mIn [6]\u001B[0m, in \u001B[0;36m<cell line: 7>\u001B[1;34m()\u001B[0m\n\u001B[0;32m      4\u001B[0m         lista[index] \u001B[38;5;241m=\u001B[39m np\u001B[38;5;241m.\u001B[39mlog(value,math\u001B[38;5;241m.\u001B[39me)\n\u001B[0;32m      6\u001B[0m     \u001B[38;5;28;01mreturn\u001B[39;00m lista\n\u001B[1;32m----> 7\u001B[0m \u001B[43mlogaritimando\u001B[49m\u001B[43m(\u001B[49m\u001B[43mvelocidade\u001B[49m\u001B[43m)\u001B[49m\n",
      "Input \u001B[1;32mIn [6]\u001B[0m, in \u001B[0;36mlogaritimando\u001B[1;34m(vetor)\u001B[0m\n\u001B[0;32m      2\u001B[0m lista \u001B[38;5;241m=\u001B[39m []\n\u001B[0;32m      3\u001B[0m \u001B[38;5;28;01mfor\u001B[39;00m index, value \u001B[38;5;129;01min\u001B[39;00m \u001B[38;5;28menumerate\u001B[39m(vetor):\n\u001B[1;32m----> 4\u001B[0m     lista[index] \u001B[38;5;241m=\u001B[39m \u001B[43mnp\u001B[49m\u001B[38;5;241;43m.\u001B[39;49m\u001B[43mlog\u001B[49m\u001B[43m(\u001B[49m\u001B[43mvalue\u001B[49m\u001B[43m,\u001B[49m\u001B[43mmath\u001B[49m\u001B[38;5;241;43m.\u001B[39;49m\u001B[43me\u001B[49m\u001B[43m)\u001B[49m\n\u001B[0;32m      6\u001B[0m \u001B[38;5;28;01mreturn\u001B[39;00m lista\n",
      "\u001B[1;31mTypeError\u001B[0m: return arrays must be of ArrayType"
     ]
    }
   ],
   "source": [],
   "metadata": {
    "collapsed": false,
    "pycharm": {
     "name": "#%%\n"
    }
   }
  },
  {
   "cell_type": "markdown",
   "source": [
    "skirt learn minimos quadrados função\n",
    "regressão polinômial"
   ],
   "metadata": {
    "collapsed": false,
    "pycharm": {
     "name": "#%% md\n"
    }
   }
  }
 ],
 "metadata": {
  "kernelspec": {
   "display_name": "Python 3 (ipykernel)",
   "language": "python",
   "name": "python3"
  },
  "language_info": {
   "codemirror_mode": {
    "name": "ipython",
    "version": 3
   },
   "file_extension": ".py",
   "mimetype": "text/x-python",
   "name": "python",
   "nbconvert_exporter": "python",
   "pygments_lexer": "ipython3",
   "version": "3.9.11"
  }
 },
 "nbformat": 4,
 "nbformat_minor": 1
}