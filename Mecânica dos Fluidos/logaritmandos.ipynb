{
 "cells": [
  {
   "cell_type": "code",
   "execution_count": 1,
   "metadata": {
    "collapsed": true,
    "pycharm": {
     "name": "#%%\n"
    }
   },
   "outputs": [],
   "source": [
    "import matplotlib.pyplot as plt\n",
    "import pandas as pd\n",
    "import math\n",
    "import numpy as np\n",
    "from sklearn.linear_model import LinearRegression\n",
    "from sklearn.pipeline import make_pipeline\n",
    "from sklearn.preprocessing import PolynomialFeatures\n",
    "import statsmodels.api as sm"
   ]
  },
  {
   "cell_type": "code",
   "execution_count": 2,
   "metadata": {
    "pycharm": {
     "name": "#%%\n"
    }
   },
   "outputs": [
    {
     "data": {
      "text/plain": "   Velocidade (RPM)  Vel. Angular (rad/s)  Taxa de Deformação (ω/θ)  \\\n0                10              1.047198                     120.0   \n1                20              2.094395                     240.0   \n2                30              3.141593                     360.0   \n3                40              4.188790                     480.0   \n4                50              5.235988                     600.0   \n5                60              6.283185                     720.0   \n6                70              7.330383                     840.0   \n7                80              8.377580                     960.0   \n\n   Viscosidade (N.s/m²*10³)  Deformação log10(ω/θ)  Viscosidade log10(u)  \n0                     121.0               2.079181              2.082785  \n1                     139.0               2.380211              2.143015  \n2                     153.0               2.556303              2.184691  \n3                     159.0               2.681241              2.201397  \n4                     172.0               2.778151              2.235528  \n5                     172.0               2.857332              2.235528  \n6                     183.0               2.924279              2.262451  \n7                     185.0               2.982271              2.267172  ",
      "text/html": "<div>\n<style scoped>\n    .dataframe tbody tr th:only-of-type {\n        vertical-align: middle;\n    }\n\n    .dataframe tbody tr th {\n        vertical-align: top;\n    }\n\n    .dataframe thead th {\n        text-align: right;\n    }\n</style>\n<table border=\"1\" class=\"dataframe\">\n  <thead>\n    <tr style=\"text-align: right;\">\n      <th></th>\n      <th>Velocidade (RPM)</th>\n      <th>Vel. Angular (rad/s)</th>\n      <th>Taxa de Deformação (ω/θ)</th>\n      <th>Viscosidade (N.s/m²*10³)</th>\n      <th>Deformação log10(ω/θ)</th>\n      <th>Viscosidade log10(u)</th>\n    </tr>\n  </thead>\n  <tbody>\n    <tr>\n      <th>0</th>\n      <td>10</td>\n      <td>1.047198</td>\n      <td>120.0</td>\n      <td>121.0</td>\n      <td>2.079181</td>\n      <td>2.082785</td>\n    </tr>\n    <tr>\n      <th>1</th>\n      <td>20</td>\n      <td>2.094395</td>\n      <td>240.0</td>\n      <td>139.0</td>\n      <td>2.380211</td>\n      <td>2.143015</td>\n    </tr>\n    <tr>\n      <th>2</th>\n      <td>30</td>\n      <td>3.141593</td>\n      <td>360.0</td>\n      <td>153.0</td>\n      <td>2.556303</td>\n      <td>2.184691</td>\n    </tr>\n    <tr>\n      <th>3</th>\n      <td>40</td>\n      <td>4.188790</td>\n      <td>480.0</td>\n      <td>159.0</td>\n      <td>2.681241</td>\n      <td>2.201397</td>\n    </tr>\n    <tr>\n      <th>4</th>\n      <td>50</td>\n      <td>5.235988</td>\n      <td>600.0</td>\n      <td>172.0</td>\n      <td>2.778151</td>\n      <td>2.235528</td>\n    </tr>\n    <tr>\n      <th>5</th>\n      <td>60</td>\n      <td>6.283185</td>\n      <td>720.0</td>\n      <td>172.0</td>\n      <td>2.857332</td>\n      <td>2.235528</td>\n    </tr>\n    <tr>\n      <th>6</th>\n      <td>70</td>\n      <td>7.330383</td>\n      <td>840.0</td>\n      <td>183.0</td>\n      <td>2.924279</td>\n      <td>2.262451</td>\n    </tr>\n    <tr>\n      <th>7</th>\n      <td>80</td>\n      <td>8.377580</td>\n      <td>960.0</td>\n      <td>185.0</td>\n      <td>2.982271</td>\n      <td>2.267172</td>\n    </tr>\n  </tbody>\n</table>\n</div>"
     },
     "execution_count": 2,
     "metadata": {},
     "output_type": "execute_result"
    }
   ],
   "source": [
    "velocidade = [10, 20, 30, 40, 50, 60, 70, 80]\n",
    "viscosidade = [0.121, 0.139, 0.153, 0.159, 0.172, 0.172, 0.183, 0.185]\n",
    "theta = math.radians(0.5)  # converte graus para radianos\n",
    "\n",
    "var_veloc = pd.Series(velocidade)  #\n",
    "var_visco = pd.Series(viscosidade)\n",
    "var_freq = pd.Series(velocidade)\n",
    "var_freq = var_freq * (2 * math.pi) / 60  # converte a frequência em hz para velocidade angular rad/s\n",
    "var_visco = var_visco * 1000  # viscosidade a 10³\n",
    "angular = var_freq / theta # taxa de deformação du/dy\n",
    "\n",
    "# dicionário de dados\n",
    "bloco_de_dados = {'Velocidade (RPM)': var_veloc,\n",
    "                  'Vel. Angular (rad/s)': var_freq,\n",
    "                  'Taxa de Deformação (ω/θ)': angular,\n",
    "                  'Viscosidade (N.s/m²*10³)': var_visco,\n",
    "                  'Deformação log10(ω/θ)':np.log10(angular),\n",
    "                  'Viscosidade log10(u)':np.log10(var_visco)\n",
    "                  }\n",
    "\n",
    "# formatação com pandas dataframe\n",
    "quadro_info = pd.DataFrame(bloco_de_dados)\n",
    "quadro_info"
   ]
  },
  {
   "cell_type": "code",
   "execution_count": 3,
   "metadata": {
    "pycharm": {
     "name": "#%%\n"
    }
   },
   "outputs": [
    {
     "data": {
      "text/plain": "Pipeline(steps=[('polynomialfeatures', PolynomialFeatures()),\n                ('linearregression', LinearRegression())])"
     },
     "execution_count": 3,
     "metadata": {},
     "output_type": "execute_result"
    }
   ],
   "source": [
    "\n",
    "xdic = {'X':np.log10(angular)}\n",
    "ydic = {'Y':np.log10(var_visco)}\n",
    "\n",
    "X = pd.DataFrame.from_dict(xdic)\n",
    "Y = pd.DataFrame.from_dict(ydic)\n",
    "\n",
    "x_SEQ = np.linspace(X.min(),X.max(),300).reshape(-1,1)\n",
    "\n",
    "value = 2 # grau do polinômio\n",
    "\n",
    "polynomial_regression = make_pipeline(PolynomialFeatures(value),LinearRegression())\n",
    "polynomial_regression.fit(X,Y)\n"
   ]
  },
  {
   "cell_type": "code",
   "execution_count": 4,
   "metadata": {
    "pycharm": {
     "name": "#%%\n"
    }
   },
   "outputs": [
    {
     "name": "stderr",
     "output_type": "stream",
     "text": [
      "C:\\Users\\alana\\anaconda3\\envs\\mathplots\\lib\\site-packages\\sklearn\\base.py:450: UserWarning: X does not have valid feature names, but PolynomialFeatures was fitted with feature names\n",
      "  warnings.warn(\n"
     ]
    },
    {
     "data": {
      "text/plain": "<Figure size 432x288 with 1 Axes>",
      "image/png": "[encoded data removed]"
     },
     "metadata": {},
     "output_type": "display_data"
    }
   ],
   "source": [
    "plt.figure()\n",
    "plt.scatter(X,Y)\n",
    "plt.plot(x_SEQ, polynomial_regression.predict(x_SEQ),color='Green')\n",
    "plt.title('Regressão Polinomial (log x log) de ordem: '+str(value))\n",
    "plt.grid(True)\n",
    "plt.xlabel(\"Cisalhamento (1/s)\")\n",
    "plt.ylabel(\"Viscosidade (N.s/m² * 10³)\")\n",
    "plt.show()"
   ]
  },
  {
   "cell_type": "code",
   "source": [
    "datas_regression = {\n",
    "    'X': np.log10(angular),\n",
    "    'Y': np.log10(var_visco),\n",
    "    'XY': np.log10(angular) * np.log10(var_visco),\n",
    "    'X2': np.log10(angular) * np.log10(angular)\n",
    "}\n",
    "datas_regression = pd.DataFrame(datas_regression)\n",
    "\n",
    "A = (len(angular) * sum(datas_regression.XY) - sum(datas_regression.Y) * sum(datas_regression.X))/(len(angular) * sum(datas_regression.X2) - (sum(datas_regression.X)**2))\n",
    "# A é o coeficiente n-1, onde n vai ser 1.20676\n",
    "\n",
    "B = (sum(datas_regression.X)*sum(datas_regression.XY) - sum(datas_regression.Y)*sum(datas_regression.X2))/((sum(datas_regression.X)**2) - len(angular) * sum(datas_regression.X2))\n",
    "# B é o log10(k) * 10^3, logo k tem que ser 0.0449\n",
    "\n",
    "x = sm.add_constant(datas_regression.X)\n",
    "\n",
    "resultados = sm.OLS(datas_regression.Y, x).fit()\n",
    "resultados.summary()"
   ],
   "metadata": {
    "collapsed": false,
    "pycharm": {
     "name": "#%%\n"
    }
   },
   "execution_count": 7,
   "outputs": [
    {
     "name": "stderr",
     "output_type": "stream",
     "text": [
      "C:\\Users\\alana\\anaconda3\\envs\\mathplots\\lib\\site-packages\\scipy\\stats\\stats.py:1541: UserWarning: kurtosistest only valid for n>=20 ... continuing anyway, n=8\n",
      "  warnings.warn(\"kurtosistest only valid for n>=20 ... continuing \"\n"
     ]
    },
    {
     "data": {
      "text/plain": "<class 'statsmodels.iolib.summary.Summary'>\n\"\"\"\n                            OLS Regression Results                            \n==============================================================================\nDep. Variable:                      Y   R-squared:                       0.992\nModel:                            OLS   Adj. R-squared:                  0.991\nMethod:                 Least Squares   F-statistic:                     788.7\nDate:                Sun, 19 Jun 2022   Prob (F-statistic):           1.35e-07\nTime:                        17:26:59   Log-Likelihood:                 30.794\nNo. Observations:                   8   AIC:                            -57.59\nDf Residuals:                       6   BIC:                            -57.43\nDf Model:                           1                                         \nCovariance Type:            nonrobust                                         \n==============================================================================\n                 coef    std err          t      P>|t|      [0.025      0.975]\n------------------------------------------------------------------------------\nconst          1.6526      0.020     84.065      0.000       1.605       1.701\nX              0.2068      0.007     28.085      0.000       0.189       0.225\n==============================================================================\nOmnibus:                        0.253   Durbin-Watson:                   3.793\nProb(Omnibus):                  0.881   Jarque-Bera (JB):                0.386\nSkew:                           0.093   Prob(JB):                        0.824\nKurtosis:                       1.940   Cond. No.                         28.4\n==============================================================================\n\nNotes:\n[1] Standard Errors assume that the covariance matrix of the errors is correctly specified.\n\"\"\"",
      "text/html": "<table class=\"simpletable\">\n<caption>OLS Regression Results</caption>\n<tr>\n  <th>Dep. Variable:</th>            <td>Y</td>        <th>  R-squared:         </th> <td>   0.992</td>\n</tr>\n<tr>\n  <th>Model:</th>                   <td>OLS</td>       <th>  Adj. R-squared:    </th> <td>   0.991</td>\n</tr>\n<tr>\n  <th>Method:</th>             <td>Least Squares</td>  <th>  F-statistic:       </th> <td>   788.7</td>\n</tr>\n<tr>\n  <th>Date:</th>             <td>Sun, 19 Jun 2022</td> <th>  Prob (F-statistic):</th> <td>1.35e-07</td>\n</tr>\n<tr>\n  <th>Time:</th>                 <td>17:26:59</td>     <th>  Log-Likelihood:    </th> <td>  30.794</td>\n</tr>\n<tr>\n  <th>No. Observations:</th>      <td>     8</td>      <th>  AIC:               </th> <td>  -57.59</td>\n</tr>\n<tr>\n  <th>Df Residuals:</th>          <td>     6</td>      <th>  BIC:               </th> <td>  -57.43</td>\n</tr>\n<tr>\n  <th>Df Model:</th>              <td>     1</td>      <th>                     </th>     <td> </td>   \n</tr>\n<tr>\n  <th>Covariance Type:</th>      <td>nonrobust</td>    <th>                     </th>     <td> </td>   \n</tr>\n</table>\n<table class=\"simpletable\">\n<tr>\n    <td></td>       <th>coef</th>     <th>std err</th>      <th>t</th>      <th>P>|t|</th>  <th>[0.025</th>    <th>0.975]</th>  \n</tr>\n<tr>\n  <th>const</th> <td>    1.6526</td> <td>    0.020</td> <td>   84.065</td> <td> 0.000</td> <td>    1.605</td> <td>    1.701</td>\n</tr>\n<tr>\n  <th>X</th>     <td>    0.2068</td> <td>    0.007</td> <td>   28.085</td> <td> 0.000</td> <td>    0.189</td> <td>    0.225</td>\n</tr>\n</table>\n<table class=\"simpletable\">\n<tr>\n  <th>Omnibus:</th>       <td> 0.253</td> <th>  Durbin-Watson:     </th> <td>   3.793</td>\n</tr>\n<tr>\n  <th>Prob(Omnibus):</th> <td> 0.881</td> <th>  Jarque-Bera (JB):  </th> <td>   0.386</td>\n</tr>\n<tr>\n  <th>Skew:</th>          <td> 0.093</td> <th>  Prob(JB):          </th> <td>   0.824</td>\n</tr>\n<tr>\n  <th>Kurtosis:</th>      <td> 1.940</td> <th>  Cond. No.          </th> <td>    28.4</td>\n</tr>\n</table><br/><br/>Notes:<br/>[1] Standard Errors assume that the covariance matrix of the errors is correctly specified."
     },
     "execution_count": 7,
     "metadata": {},
     "output_type": "execute_result"
    }
   ]
  },
  {
   "cell_type": "code",
   "execution_count": 6,
   "outputs": [
    {
     "name": "stdout",
     "output_type": "stream",
     "text": [
      "os coeficientes k:0.0449 e n:1.2068\n"
     ]
    }
   ],
   "source": [
    "n = A + 1\n",
    "k = (10**B)/1000\n",
    "\n",
    "print('os coeficientes k:{:.4f} e n:{:.4f}'.format(k,n))"
   ],
   "metadata": {
    "collapsed": false,
    "pycharm": {
     "name": "#%%\n"
    }
   }
  },
  {
   "cell_type": "code",
   "metadata": {
    "pycharm": {
     "name": "#%%\n"
    }
   },
   "source": [],
   "execution_count": 6,
   "outputs": []
  }
 ],
 "metadata": {
  "kernelspec": {
   "display_name": "Python 3 (ipykernel)",
   "language": "python",
   "name": "python3"
  },
  "language_info": {
   "codemirror_mode": {
    "name": "ipython",
    "version": 3
   },
   "file_extension": ".py",
   "mimetype": "text/x-python",
   "name": "python",
   "nbconvert_exporter": "python",
   "pygments_lexer": "ipython3",
   "version": "3.9.12"
  }
 },
 "nbformat": 4,
 "nbformat_minor": 1
}