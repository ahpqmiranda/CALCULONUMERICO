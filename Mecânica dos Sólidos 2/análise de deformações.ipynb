{
 "cells": [
  {
   "cell_type": "markdown",
   "source": [
    "# estudo das deformações nas peças"
   ],
   "metadata": {
    "collapsed": false,
    "pycharm": {
     "name": "#%% md\n"
    }
   }
  },
  {
   "cell_type": "code",
   "execution_count": 67,
   "outputs": [],
   "source": [
    "import numpy as np"
   ],
   "metadata": {
    "collapsed": false,
    "pycharm": {
     "name": "#%%\n"
    }
   }
  },
  {
   "cell_type": "code",
   "execution_count": 68,
   "outputs": [],
   "source": [
    "import numpy as np\n",
    "import math\n",
    "from sympy import *"
   ],
   "metadata": {
    "collapsed": false,
    "pycharm": {
     "name": "#%%\n"
    }
   }
  },
  {
   "cell_type": "code",
   "execution_count": 69,
   "outputs": [],
   "source": [
    "def analise_deform (x, y ,z, a):\n",
    "    angle = math.radians(a)\n",
    "    deform_x  = (x + y) / 2 + ((x - y) / 2) *cos(2*a) + (z / 2) * sin(2*a)\n",
    "    deform_y = (x + y) / 2 - ((x - y) / 2) * cos(2*a) - (z / 2) * sin(2*a)\n",
    "    deform_cis = - (x - y) / 2 * math.sin(2*a) + (z / 2) * math.cos(2*a)\n",
    "    texto = \"A deformação em X é' é: {:.3f} micros\\n\" \\\n",
    "            \"A deformação em Y: {:.3f} micros\\n\" \\\n",
    "            \"A deformação de cisalhamento' é: {:.3f} micros\\n\".format(deform_x, deform_y, deform_cis)\n",
    "\n",
    "    return texto"
   ],
   "metadata": {
    "collapsed": false,
    "pycharm": {
     "name": "#%%\n"
    }
   }
  },
  {
   "cell_type": "code",
   "execution_count": 70,
   "outputs": [],
   "source": [
    "def main_deform (x, y, z):\n",
    "    deform_media = (x + y) / 2\n",
    "    radius = math.sqrt( ((x - y)/2)**2 + (z/2)**2)\n",
    "    main_1 = deform_media + radius\n",
    "    main_2 = deform_media - radius\n",
    "    texto = \"A deformação principal 1 é {:.3f}\\n\" \\\n",
    "            \"A deformação principal 2 é {:.3f}\\n\" \\\n",
    "            \"A deformação de cisalhamento é {:.3f}\\n\".format(main_1, main_2, radius)\n",
    "    return texto"
   ],
   "metadata": {
    "collapsed": false,
    "pycharm": {
     "name": "#%%\n"
    }
   }
  },
  {
   "cell_type": "code",
   "execution_count": 71,
   "outputs": [],
   "source": [
    "def tresca (x, y, z, a):\n",
    "\n",
    "    return"
   ],
   "metadata": {
    "collapsed": false,
    "pycharm": {
     "name": "#%%\n"
    }
   }
  },
  {
   "cell_type": "code",
   "execution_count": 72,
   "outputs": [],
   "source": [
    "def mises (x, y, z, a):\n",
    "\n",
    "    return"
   ],
   "metadata": {
    "collapsed": false,
    "pycharm": {
     "name": "#%%\n"
    }
   }
  },
  {
   "cell_type": "code",
   "execution_count": 73,
   "outputs": [],
   "source": [
    "sigmax = float(input('Digite o valor da deformação x:\\n'))\n",
    "sigmay = float(input('Digite o valor da deformação y:\\n'))\n",
    "tauxy = float(input('Digite o valor da deformação cisalhante:\\n'))\n",
    "angulo = float(input('Digite o valor do ângulo do plano em graus:\\n'))"
   ],
   "metadata": {
    "collapsed": false,
    "pycharm": {
     "name": "#%%\n"
    }
   }
  },
  {
   "cell_type": "code",
   "execution_count": 74,
   "outputs": [
    {
     "data": {
      "text/plain": "\"A deformação em X é' é: -250.484 micros\\nA deformação em Y: 450.484 micros\\nA deformação de cisalhamento' é: -217.166 micros\\n\""
     },
     "execution_count": 74,
     "metadata": {},
     "output_type": "execute_result"
    }
   ],
   "source": [
    "analise_deform(sigmax, sigmay, tauxy, angulo)"
   ],
   "metadata": {
    "collapsed": false,
    "pycharm": {
     "name": "#%%\n"
    }
   }
  },
  {
   "cell_type": "code",
   "execution_count": 75,
   "outputs": [
    {
     "data": {
      "text/plain": "'A deformação principal 1 é 512.311\\nA deformação principal 2 é -312.311\\nA deformação de cisalhamento é 412.311\\n'"
     },
     "execution_count": 75,
     "metadata": {},
     "output_type": "execute_result"
    }
   ],
   "source": [
    "main_deform(sigmax, sigmay, tauxy)"
   ],
   "metadata": {
    "collapsed": false,
    "pycharm": {
     "name": "#%%\n"
    }
   }
  }
 ],
 "metadata": {
  "kernelspec": {
   "display_name": "Python 3",
   "language": "python",
   "name": "python3"
  },
  "language_info": {
   "codemirror_mode": {
    "name": "ipython",
    "version": 2
   },
   "file_extension": ".py",
   "mimetype": "text/x-python",
   "name": "python",
   "nbconvert_exporter": "python",
   "pygments_lexer": "ipython2",
   "version": "2.7.6"
  }
 },
 "nbformat": 4,
 "nbformat_minor": 0
}