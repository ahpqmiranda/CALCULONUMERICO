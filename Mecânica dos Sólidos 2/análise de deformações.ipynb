{
 "cells": [
  {
   "cell_type": "markdown",
   "source": [
    "# estudo das deformações nas peças"
   ],
   "metadata": {
    "collapsed": false,
    "pycharm": {
     "name": "#%% md\n"
    }
   }
  },
  {
   "cell_type": "code",
   "execution_count": 239,
   "outputs": [],
   "source": [
    "import numpy as np\n",
    "import math"
   ],
   "metadata": {
    "collapsed": false,
    "pycharm": {
     "name": "#%%\n"
    }
   }
  },
  {
   "cell_type": "code",
   "execution_count": 240,
   "outputs": [],
   "source": [
    "def analise_deform (x, y ,z, a):\n",
    "    angle = math.radians(a)\n",
    "    deform_x  = ((x+y)/2) + ((x-y)/2)*np.cos(2*angle) + (z/2)*np.sin(2*angle)\n",
    "    deform_y = ((x+y)/2) - ((x-y)/2)*np.cos(2*angle) - (z/2)*np.sin(2*angle)\n",
    "    deform_cis = -(x-y)*np.sin(2*angle) + z*np.cos(2*angle)\n",
    "\n",
    "    texto = \"Para o plano de tensões com {:.3f}º, os valores do circulo de Mohr, são:\\n\" \\\n",
    "            \"A deformação em X: {:.3f}\\n\" \\\n",
    "            \"A deformação em Y: {:.3f}\\n\" \\\n",
    "            \"A deformação de cisalhamento' é: {:.3f}\\n\".format(a, deform_x, deform_y, deform_cis)\n",
    "\n",
    "    return texto"
   ],
   "metadata": {
    "collapsed": false,
    "pycharm": {
     "name": "#%%\n"
    }
   }
  },
  {
   "cell_type": "code",
   "execution_count": 241,
   "outputs": [],
   "source": [
    "def main_deform (x, y, z):\n",
    "    angular = np.arctan(z/(x-y)) / 2\n",
    "    angular = math.degrees(angular)\n",
    "    deform_media = (x + y) / 2\n",
    "    radius = math.sqrt(((x - y)/2)**2 + (z/2)**2)\n",
    "    main_1 = deform_media + radius\n",
    "    main_2 = deform_media - radius\n",
    "    texto = \"Angulo do plano principal: {:.3f}º\\n\" \\\n",
    "            \"A deformação média é: {:.3f}\\n\" \\\n",
    "            \"A deformação principal 1: {:.3f}\\n\" \\\n",
    "            \"A deformação principal 2: {:.3f}\\n\" \\\n",
    "            \"A deformação de cisalhamento máximo Yxuy: {:.3f}\\n\".format(angular, deform_media,main_1, main_2, radius)\n",
    "    return texto"
   ],
   "metadata": {
    "collapsed": false,
    "pycharm": {
     "name": "#%%\n"
    }
   }
  },
  {
   "cell_type": "code",
   "execution_count": 242,
   "outputs": [],
   "source": [
    "def tresca (x, y, z, a):\n",
    "\n",
    "    return"
   ],
   "metadata": {
    "collapsed": false,
    "pycharm": {
     "name": "#%%\n"
    }
   }
  },
  {
   "cell_type": "code",
   "execution_count": 243,
   "outputs": [],
   "source": [
    "def mises (x, y, z, a):\n",
    "\n",
    "    return"
   ],
   "metadata": {
    "collapsed": false,
    "pycharm": {
     "name": "#%%\n"
    }
   }
  },
  {
   "cell_type": "code",
   "execution_count": 243,
   "outputs": [],
   "source": [],
   "metadata": {
    "collapsed": false,
    "pycharm": {
     "name": "#%%\n"
    }
   }
  },
  {
   "cell_type": "code",
   "execution_count": 244,
   "outputs": [],
   "source": [
    "sigmax = float(input('Digite o valor da deformação x:\\n'))\n",
    "sigmay = float(input('Digite o valor da deformação y:\\n'))\n",
    "tauxy = float(input('Digite o valor da deformação cisalhante:\\n'))\n",
    "angulo = float(input('Digite o valor do ângulo do plano em graus:\\n'))"
   ],
   "metadata": {
    "collapsed": false,
    "pycharm": {
     "name": "#%%\n"
    }
   }
  },
  {
   "cell_type": "code",
   "execution_count": 245,
   "outputs": [
    {
     "name": "stdout",
     "output_type": "stream",
     "text": [
      "Para o plano de tensões com 40.860º, os valores do circulo de Mohr, são:\n",
      "A deformação em X: -75.020\n",
      "A deformação em Y: -74.980\n",
      "A deformação de cisalhamento' é: 555.788\n",
      "\n",
      "Angulo do plano principal: -4.138º\n",
      "A deformação média é: -75.000\n",
      "A deformação principal 1: 202.894\n",
      "A deformação principal 2: -352.894\n",
      "A deformação de cisalhamento máximo Yxuy: 277.894\n",
      "\n"
     ]
    }
   ],
   "source": [
    "print(analise_deform(sigmax, sigmay, tauxy, angulo))\n",
    "print(main_deform(sigmax, sigmay, tauxy))"
   ],
   "metadata": {
    "collapsed": false,
    "pycharm": {
     "name": "#%%\n"
    }
   }
  }
 ],
 "metadata": {
  "kernelspec": {
   "display_name": "Python 3",
   "language": "python",
   "name": "python3"
  },
  "language_info": {
   "codemirror_mode": {
    "name": "ipython",
    "version": 2
   },
   "file_extension": ".py",
   "mimetype": "text/x-python",
   "name": "python",
   "nbconvert_exporter": "python",
   "pygments_lexer": "ipython2",
   "version": "2.7.6"
  }
 },
 "nbformat": 4,
 "nbformat_minor": 0
}