{
 "cells": [
  {
   "cell_type": "code",
   "execution_count": 52,
   "metadata": {
    "pycharm": {
     "name": "#%%\n"
    }
   },
   "outputs": [],
   "source": [
    "import math"
   ]
  },
  {
   "cell_type": "markdown",
   "metadata": {
    "pycharm": {
     "name": "#%% md\n"
    }
   },
   "source": [
    "\n",
    "theta = [°] # ângulo de fieira <br>\n",
    "kf = [kgf/m²] # Coeficiente de fricção <br>\n",
    "mu = [ ] # coeficiente de atrito <br>\n",
    "Di = [m] # Diâmetro inicial da tubulação <br>\n",
    "Df = [m] # Diâmetro final da tubulação <br>\n",
    "Ai = [m²] # Área inicial da tubulação <br>\n",
    "Af = [m²] # Área final da tubulação <br>\n"
   ]
  },
  {
   "cell_type": "code",
   "execution_count": 53,
   "metadata": {
    "pycharm": {
     "name": "#%%\n"
    }
   },
   "outputs": [],
   "source": [
    "kf = 400e+4 # [kgf/m²]\n",
    "theta = 8 # [°]\n",
    "theta = math.radians(theta) # [rad]\n",
    "mu = 0.10 # []\n",
    "Di = 0.86e-2 # [m]\n",
    "Df = 0.62e-2 # [m]\n",
    "Ai = math.pi * Di**2 / 4 # [m²]\n",
    "Af = math.pi * Df**2 / 4 # [m²]"
   ]
  },
  {
   "cell_type": "code",
   "execution_count": 54,
   "metadata": {
    "pycharm": {
     "name": "#%%\n"
    }
   },
   "outputs": [
    {
     "name": "stdout",
     "output_type": "stream",
     "text": [
      "352.2118696254083 [N]\n"
     ]
    }
   ],
   "source": [
    "F_sachs = Ai * kf * (1 + math.tan(theta) / mu) * (1 - Af/Ai * mu * 1 / math.tan(theta)) # [N]\n",
    "print(str(F_sachs)+\" [N]\")"
   ]
  },
  {
   "cell_type": "code",
   "execution_count": 55,
   "metadata": {},
   "outputs": [
    {
     "name": "stdout",
     "output_type": "stream",
     "text": [
      "352.31938190733115[N]\n"
     ]
    }
   ],
   "source": [
    "F_koerber_e_Eicinger = F_sachs + 0.77 * theta\n",
    "print(str(F_koerber_e_Eicinger)+\"[N]\")"
   ]
  },
  {
   "cell_type": "code",
   "execution_count": null,
   "outputs": [],
   "source": [
    "# deformnação global\n",
    "fi = math.log(Df/Di)\n",
    "print(str(fi*100)+' %')"
   ],
   "metadata": {
    "collapsed": false,
    "pycharm": {
     "name": "#%%\n"
    }
   }
  },
  {
   "cell_type": "code",
   "execution_count": null,
   "outputs": [],
   "source": [],
   "metadata": {
    "collapsed": false,
    "pycharm": {
     "name": "#%%\n"
    }
   }
  },
  {
   "cell_type": "code",
   "execution_count": null,
   "metadata": {},
   "outputs": [],
   "source": []
  }
 ],
 "metadata": {
  "kernelspec": {
   "display_name": "Python 3 (ipykernel)",
   "language": "python",
   "name": "python3"
  },
  "language_info": {
   "codemirror_mode": {
    "name": "ipython",
    "version": 3
   },
   "file_extension": ".py",
   "mimetype": "text/x-python",
   "name": "python",
   "nbconvert_exporter": "python",
   "pygments_lexer": "ipython3",
   "version": "3.9.12"
  }
 },
 "nbformat": 4,
 "nbformat_minor": 1
}