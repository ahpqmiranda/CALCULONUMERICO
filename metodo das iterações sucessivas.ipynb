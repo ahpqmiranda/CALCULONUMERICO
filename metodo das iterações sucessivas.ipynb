{
 "cells": [
  {
   "cell_type": "markdown",
   "metadata": {
    "collapsed": true,
    "pycharm": {
     "name": "#%% md\n"
    }
   },
   "source": [
    "# METODO DAS BISSECÇÕES\n",
    "***\n",
    "\n",
    "dada uma função f(x), o zero da função pode ser determinado pelo algoritmo:\n",
    "\n",
    "seja um [a,b] um intervalo pertencente ao dominio de fx\n",
    "a partir do teorema de bolzano:\n",
    "* c = f(a)*f(b)\n",
    "temos:\n",
    "\n",
    "se c < 0, há um zero da função no intervalo\n",
    "se c = 0, ou f(a) ou f(b) é um zero da função\n",
    "se c > 0, nada podemos afirmar\n",
    "\n",
    "**Cálculo do erro absoluto**\n",
    "erroABS = | x - x'| onde x é o numero real e x' é sua aproximação\n",
    "\n",
    "**Cálculo do erro relativo**\n",
    "\n",
    "erroREL = | x - x'| / |x| onde x =/= 0\n"
   ]
  },
  {
   "cell_type": "code",
   "execution_count": 26,
   "outputs": [],
   "source": [
    "import math\n",
    "\n",
    "import numpy as np"
   ],
   "metadata": {
    "collapsed": false,
    "pycharm": {
     "name": "#%%\n"
    }
   }
  },
  {
   "cell_type": "code",
   "execution_count": 27,
   "outputs": [],
   "source": [
    "def f(x):\n",
    "    return np.exp(x) - x - 2"
   ],
   "metadata": {
    "collapsed": false,
    "pycharm": {
     "name": "#%%\n"
    }
   }
  },
  {
   "cell_type": "code",
   "execution_count": 28,
   "outputs": [],
   "source": [
    "def erro_relativo(m, n):\n",
    "    erro = math.sqrt(math.pow(m-n,2) / math.sqrt(math.pow(m,2))) * 100\n",
    "    return erro"
   ],
   "metadata": {
    "collapsed": false,
    "pycharm": {
     "name": "#%%\n"
    }
   }
  },
  {
   "cell_type": "code",
   "execution_count": 29,
   "outputs": [],
   "source": [
    "def bissec(a, b, tolerancia, n):\n",
    "    i = 1\n",
    "    fa = f(a)\n",
    "    limite = math.pow(10,tolerancia)\n",
    "    while i <= n:\n",
    "        criteria = (b - a) / 2\n",
    "        s = a + criteria\n",
    "        fp = f(s)\n",
    "        if fp == 0 or criteria < limite:\n",
    "            return s, print('parada por limite de erro')\n",
    "        i = i + 1\n",
    "        teste_bolzano = fa * fp > 0\n",
    "        texto = '{} | {} | {} | {} | {}\\n'.format(a, b, s, fp, fa * fp, erro_relativo(a, s))\n",
    "        print(texto)\n",
    "        if teste_bolzano is True:\n",
    "            a = s\n",
    "            fa = fp\n",
    "        else:\n",
    "            b = s\n",
    "\n"
   ],
   "metadata": {
    "collapsed": false,
    "pycharm": {
     "name": "#%%\n"
    }
   }
  },
  {
   "cell_type": "code",
   "execution_count": 30,
   "outputs": [],
   "source": [
    "p = float(input('digite o limite inferior:\\n'))\n",
    "q = float(input('digite o limite superior:\\n'))\n",
    "r = float(input('digite a ordem da tolerancia:\\n'))\n",
    "N = int(input('digite o numero maximo de iteracoes:\\n'))"
   ],
   "metadata": {
    "collapsed": false,
    "pycharm": {
     "name": "#%%\n"
    }
   }
  },
  {
   "cell_type": "code",
   "execution_count": 31,
   "outputs": [
    {
     "name": "stdout",
     "output_type": "stream",
     "text": [
      "-5.0 | 3.0 | -1.0 | -0.6321205588285577 | -1.900620871308092\n",
      "\n",
      "-5.0 | -1.0 | -3.0 | 1.049787068367864 | 3.15643461473058\n",
      "\n",
      "-5.0 | -3.0 | -4.0 | 2.018315638888734 | 6.068546220468461\n",
      "\n",
      "-5.0 | -4.0 | -4.5 | 2.5111089965382423 | 7.550246708942328\n",
      "\n",
      "-5.0 | -4.5 | -4.75 | 2.7586516952031204 | 8.294542734520578\n",
      "\n",
      "-5.0 | -4.75 | -4.875 | 2.88263509421886 | 8.667328325139131\n",
      "\n",
      "-5.0 | -4.875 | -4.9375 | 2.9446725072450084 | 8.853858569018506\n",
      "\n",
      "-5.0 | -4.9375 | -4.96875 | 2.9757018323963846 | 8.947155618420922\n",
      "\n",
      "-5.0 | -4.96875 | -4.984375 | 2.9912190542248993 | 8.99381183812472\n",
      "\n",
      "-5.0 | -4.984375 | -4.9921875 | 2.998978293372371 | 9.017141836909264\n",
      "\n",
      "-5.0 | -4.9921875 | -4.99609375 | 3.002858068578008 | 9.028807304245879\n",
      "\n",
      "-5.0 | -4.99609375 | -4.998046875 | 3.0047979949118027 | 9.034640154368082\n",
      "\n",
      "-5.0 | -4.998046875 | -4.9990234375 | 3.005767967739401 | 9.03755660847638\n",
      "\n",
      "-5.0 | -4.9990234375 | -4.99951171875 | 3.006252956565625 | 9.039014842784058\n",
      "\n",
      "-5.0 | -4.99951171875 | -4.999755859375 | 3.0064954515814994 | 9.039743961750247\n",
      "\n",
      "-5.0 | -4.999755859375 | -4.9998779296875 | 3.0066166992400847 | 9.0401085216863\n",
      "\n",
      "parada por limite de erro\n"
     ]
    },
    {
     "data": {
      "text/plain": "(-4.99993896484375, None)"
     },
     "execution_count": 31,
     "metadata": {},
     "output_type": "execute_result"
    }
   ],
   "source": [
    "bissec(p,q,r,N)"
   ],
   "metadata": {
    "collapsed": false,
    "pycharm": {
     "name": "#%%\n"
    }
   }
  }
 ],
 "metadata": {
  "kernelspec": {
   "display_name": "Python 3",
   "language": "python",
   "name": "python3"
  },
  "language_info": {
   "codemirror_mode": {
    "name": "ipython",
    "version": 2
   },
   "file_extension": ".py",
   "mimetype": "text/x-python",
   "name": "python",
   "nbconvert_exporter": "python",
   "pygments_lexer": "ipython2",
   "version": "2.7.6"
  }
 },
 "nbformat": 4,
 "nbformat_minor": 0
}