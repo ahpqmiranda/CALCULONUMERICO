{
 "cells": [
  {
   "cell_type": "markdown",
   "metadata": {
    "collapsed": true,
    "pycharm": {
     "name": "#%% md\n"
    }
   },
   "source": [
    "# Calculo das tensões principais (em R2)\n",
    "\n",
    "## Cálculo da tensão principal (σ)\n",
    "\n",
    "**passo 1:**\n",
    "Identificar os planos principais do sistema\n",
    "\n",
    "será dado por:\n",
    "\n",
    "```tan(2a) = 2z/(x - y)```\n",
    "\n",
    "onde x é a tensão sigma x, y é a tensão sigma y e z é o cisalhamento\n",
    "\n",
    "\"a\" será o ângulo do plano de tensões principais\n",
    "\n",
    "para encontrar o plano de tensões cisalhantes b, fazemos\n",
    "\n",
    "```b = a + 90```\n",
    "\n",
    "exemplo, se as tensões dadas para um sistema são\n",
    "\n",
    "```x = 160, y = 60, z = 40 em MPa```\n",
    "\n",
    "temos:\n",
    "```a = 38.65 degrees```\n",
    "\n",
    " **tensão principal σ1**\n",
    " ```= (x+y)/2 + (x-y)/2*cos(a) +z*sin(a)```\n",
    "\n",
    "```= (x+y)/2 + sqrt(((x-y)/2)^2+z^2)```\n",
    "\n",
    "```= x * cos(a/2)^2 + y * sin(a/2)^2 + z * sin(a)```\n",
    "\n",
    "\n",
    " **tensão principal σ2**\n",
    " ```= (x+y)/2 + (x-y)/2*sin(a) +z*cos(a)```\n"
   ]
  },
  {
   "cell_type": "code",
   "execution_count": 24,
   "outputs": [],
   "source": [
    "import math\n",
    "# import numpy as np"
   ],
   "metadata": {
    "collapsed": false,
    "pycharm": {
     "name": "#%%\n"
    }
   }
  },
  {
   "cell_type": "code",
   "execution_count": 25,
   "outputs": [],
   "source": [
    "sigmax = float(input('digite a tensão sigma x:'))\n",
    "sigmay = float(input('digite a tensão sigma y:'))\n",
    "tauxy = float(input('digite a tensão de cisalhamento: '))"
   ],
   "metadata": {
    "collapsed": false,
    "pycharm": {
     "name": "#%%\n"
    }
   }
  },
  {
   "cell_type": "code",
   "execution_count": 26,
   "outputs": [],
   "source": [
    "def angulos_tensoes_principais(x, y, z):\n",
    "    a  = math.atan( 2 * z / (x - y)) / 2\n",
    "    a = math.degrees(a)\n",
    "    b = a + 90\n",
    "    texto = 'o ângulo do plano principal de tensões é {:2f} e de cisalhamento é {:2f}'.format(a, b)\n",
    "    return texto"
   ],
   "metadata": {
    "collapsed": false,
    "pycharm": {
     "name": "#%%\n"
    }
   }
  },
  {
   "cell_type": "code",
   "execution_count": 27,
   "outputs": [
    {
     "name": "stdout",
     "output_type": "stream",
     "text": [
      "o ângulo do plano principal de tensões é 19.329904 e de cisalhamento é 109.329904\n"
     ]
    }
   ],
   "source": [
    "print(angulos_tensoes_principais(sigmax, sigmay, tauxy))"
   ],
   "metadata": {
    "collapsed": false,
    "pycharm": {
     "name": "#%%\n"
    }
   }
  },
  {
   "cell_type": "code",
   "execution_count": 28,
   "outputs": [],
   "source": [
    "def tensoes_principais (x, y, z):\n",
    "    a = (x + y) / 2 + math.sqrt(math.pow((x-y)/2, 2) + math.pow(z, 2))\n",
    "    b = (x + y) / 2 - math.sqrt(math.pow((x-y)/2, 2) + math.pow(z, 2))\n",
    "    texto = 'a tensão principal sigma x é: {:2f}\\n a tensão principal simga y é {:2f}\\n'.format(a, b)\n",
    "    return texto"
   ],
   "metadata": {
    "collapsed": false,
    "pycharm": {
     "name": "#%%\n"
    }
   }
  },
  {
   "cell_type": "code",
   "execution_count": 29,
   "outputs": [
    {
     "name": "stdout",
     "output_type": "stream",
     "text": [
      "a tensão principal sigma x é: 174.031242\n",
      " a tensão principal simga y é 45.968758\n",
      "\n"
     ]
    }
   ],
   "source": [
    "print(tensoes_principais(sigmax,sigmay,tauxy))"
   ],
   "metadata": {
    "collapsed": false,
    "pycharm": {
     "name": "#%%\n"
    }
   }
  }
 ],
 "metadata": {
  "kernelspec": {
   "display_name": "Python 3",
   "language": "python",
   "name": "python3"
  },
  "language_info": {
   "codemirror_mode": {
    "name": "ipython",
    "version": 2
   },
   "file_extension": ".py",
   "mimetype": "text/x-python",
   "name": "python",
   "nbconvert_exporter": "python",
   "pygments_lexer": "ipython2",
   "version": "2.7.6"
  }
 },
 "nbformat": 4,
 "nbformat_minor": 0
}