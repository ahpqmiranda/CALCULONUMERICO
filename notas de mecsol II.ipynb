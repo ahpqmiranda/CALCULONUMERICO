{
 "cells": [
  {
   "cell_type": "markdown",
   "metadata": {
    "collapsed": true,
    "pycharm": {
     "name": "#%% md\n"
    }
   },
   "source": [
    "# Calculo das tensões principais (em R2)\n",
    "\n",
    "## Cálculo da tensão principal (σ)\n",
    "\n",
    "**passo 1:**\n",
    "Identificar os planos principais do sistema\n",
    "\n",
    "será dado por:\n",
    "\n",
    "```tan(2a) = 2z/(x - y)```\n",
    "\n",
    "onde x é a tensão sigma x, y é a tensão sigma y e z é o cisalhamento\n",
    "\n",
    "\"a\" será o ângulo do plano de tensões principais\n",
    "\n",
    "para encontrar o plano de tensões cisalhantes b, fazemos\n",
    "\n",
    "```b = a + 90```\n",
    "\n",
    "exemplo, se as tensões dadas para um sistema são\n",
    "\n",
    "```x = 160, y = 60, z = 40 em MPa```\n",
    "\n",
    "temos:\n",
    "```a = 38.65 degrees```\n",
    "\n",
    " **tensão principal σ1**\n",
    " ```= (x+y)/2 + (x-y)/2*cos(a) +z*sin(a)```\n",
    "\n",
    "```= (x+y)/2 + sqrt(((x-y)/2)^2+z^2)```\n",
    "\n",
    "```= x * cos(a/2)^2 + y * sin(a/2)^2 + z * sin(a)```\n",
    "\n",
    "\n",
    " **tensão principal σ2**\n",
    " ```= (x+y)/2 + (x-y)/2*sin(a) +z*cos(a)```\n"
   ]
  },
  {
   "cell_type": "code",
   "execution_count": 9,
   "outputs": [],
   "source": [
    "import math\n",
    "# import numpy as np"
   ],
   "metadata": {
    "collapsed": false,
    "pycharm": {
     "name": "#%%\n"
    }
   }
  },
  {
   "cell_type": "code",
   "execution_count": 10,
   "outputs": [],
   "source": [
    "sigmax = float(input('digite a tensão sigma x:'))\n",
    "sigmay = float(input('digite a tensão sigma y:'))\n",
    "tauxy = float(input('digite a tensão de cisalhamento: '))"
   ],
   "metadata": {
    "collapsed": false,
    "pycharm": {
     "name": "#%%\n"
    }
   }
  },
  {
   "cell_type": "code",
   "execution_count": 11,
   "outputs": [],
   "source": [
    "def angulos_tensoes_principais(x, y, z):\n",
    "    a  = math.atan( 2 * z / (x - y)) / 2\n",
    "    a = math.degrees(a)\n",
    "    b = a + 90\n",
    "    texto = 'o ângulo do plano principal de tensões é {:2f}º e de cisalhamento é {:2f}º'.format(a, b)\n",
    "    return texto"
   ],
   "metadata": {
    "collapsed": false,
    "pycharm": {
     "name": "#%%\n"
    }
   }
  },
  {
   "cell_type": "code",
   "execution_count": 12,
   "outputs": [],
   "source": [
    "def tensao_cisalhamento_max(x, y, z):\n",
    "    a  = math.atan( 2 * z / (x - y)) / 2\n",
    "    tau_principal = - (x + y) / 2 + (x - y) / 2 * math.sin(2 * a) + z * math.cos(2 * a)\n",
    "    texto = 'a tensão de cisalhamento máxima cálculada com o ângulo e as tensões é {:2f}'.format(tau_principal)\n",
    "    return texto"
   ],
   "metadata": {
    "collapsed": false,
    "pycharm": {
     "name": "#%%\n"
    }
   }
  },
  {
   "cell_type": "code",
   "execution_count": 13,
   "outputs": [],
   "source": [
    "def tensao_cisalhamento_max2(x, y, z):\n",
    "    tau_principal = math.sqrt(math.pow((x - y) / 2, 2) + math.pow(z, 2))\n",
    "    texto = ' a tensão de cisalhamento máxima cálculada apenas com as tensões é {:2f}'.format(tau_principal)\n",
    "    return tau_principal"
   ],
   "metadata": {
    "collapsed": false,
    "pycharm": {
     "name": "#%%\n"
    }
   }
  },
  {
   "cell_type": "code",
   "execution_count": 14,
   "outputs": [],
   "source": [
    "def tensoes_principais (x, y, z):\n",
    "    a = (x + y) / 2 + math.sqrt(math.pow((x-y)/2, 2) + math.pow(z, 2))\n",
    "    b = (x + y) / 2 - math.sqrt(math.pow((x-y)/2, 2) + math.pow(z, 2))\n",
    "    texto = 'a tensão principal sigma x é: {:2f}\\n a tensão principal simga y é {:2f}\\n'.format(a, b)\n",
    "    return texto"
   ],
   "metadata": {
    "collapsed": false,
    "pycharm": {
     "name": "#%%\n"
    }
   }
  },
  {
   "cell_type": "code",
   "execution_count": 15,
   "outputs": [
    {
     "name": "stdout",
     "output_type": "stream",
     "text": [
      "o ângulo do plano principal de tensões é 19.329904º e de cisalhamento é 109.329904º\n"
     ]
    }
   ],
   "source": [
    "print(angulos_tensoes_principais(sigmax, sigmay, tauxy))"
   ],
   "metadata": {
    "collapsed": false,
    "pycharm": {
     "name": "#%%\n"
    }
   }
  },
  {
   "cell_type": "code",
   "execution_count": 16,
   "outputs": [
    {
     "name": "stdout",
     "output_type": "stream",
     "text": [
      "a tensão principal sigma x é: 174.031242\n",
      " a tensão principal simga y é 45.968758\n",
      "\n"
     ]
    }
   ],
   "source": [
    "print(tensoes_principais(sigmax,sigmay,tauxy))"
   ],
   "metadata": {
    "collapsed": false,
    "pycharm": {
     "name": "#%%\n"
    }
   }
  },
  {
   "cell_type": "markdown",
   "source": [
    "**Cálculo da tensão de cisalhamento máximo**"
   ],
   "metadata": {
    "collapsed": false,
    "pycharm": {
     "name": "#%% md\n"
    }
   }
  },
  {
   "cell_type": "code",
   "execution_count": 17,
   "outputs": [
    {
     "name": "stdout",
     "output_type": "stream",
     "text": [
      "Tensão cis 1:a tensão de cisalhamento máxima cálculada com o ângulo e as tensões é -47.530495 \n",
      "\n",
      "\n",
      " Tensão cis 2: 64.03124237432849 \n",
      "\n"
     ]
    }
   ],
   "source": [
    "print('Tensão cis 1:{} \\n'.format(tensao_cisalhamento_max(sigmax,sigmay,tauxy)))\n",
    "print('\\n Tensão cis 2: {} \\n'.format(tensao_cisalhamento_max2(sigmax,sigmay, tauxy)))"
   ],
   "metadata": {
    "collapsed": false,
    "pycharm": {
     "name": "#%%\n"
    }
   }
  }
 ],
 "metadata": {
  "kernelspec": {
   "display_name": "Python 3",
   "language": "python",
   "name": "python3"
  },
  "language_info": {
   "codemirror_mode": {
    "name": "ipython",
    "version": 2
   },
   "file_extension": ".py",
   "mimetype": "text/x-python",
   "name": "python",
   "nbconvert_exporter": "python",
   "pygments_lexer": "ipython2",
   "version": "2.7.6"
  }
 },
 "nbformat": 4,
 "nbformat_minor": 0
}