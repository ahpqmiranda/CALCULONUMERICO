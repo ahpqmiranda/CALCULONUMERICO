{
 "cells": [
  {
   "cell_type": "code",
   "execution_count": 1,
   "outputs": [],
   "source": [
    "import math\n",
    "import numpy as np\n",
    "from sympy import*\n",
    "from sympy.interactive import init_printing\n",
    "init_printing(pretty_print=True, use_latex=\"mathjax\")\n",
    "x,y=var(\"x y\",real=True)\n",
    "from anastruct.fem.system import SystemElements\n",
    "import matplotlib.pyplot as plt\n"
   ],
   "metadata": {
    "collapsed": false,
    "pycharm": {
     "name": "#%%\n"
    }
   }
  },
  {
   "cell_type": "code",
   "execution_count": 4,
   "outputs": [
    {
     "ename": "NameError",
     "evalue": "name 'SystemElements' is not defined",
     "output_type": "error",
     "traceback": [
      "\u001B[1;31m---------------------------------------------------------------------------\u001B[0m",
      "\u001B[1;31mNameError\u001B[0m                                 Traceback (most recent call last)",
      "Input \u001B[1;32mIn [4]\u001B[0m, in \u001B[0;36m<cell line: 78>\u001B[1;34m()\u001B[0m\n\u001B[0;32m     76\u001B[0m      \u001B[38;5;28mprint\u001B[39m(\u001B[38;5;124m\"\u001B[39m\u001B[38;5;124mO Momento máximo negativo é de \u001B[39m\u001B[38;5;132;01m{M_negativo}\u001B[39;00m\u001B[38;5;124m kNm\u001B[39m\u001B[38;5;124m\"\u001B[39m)\n\u001B[0;32m     77\u001B[0m      \u001B[38;5;28;01mreturn\u001B[39;00m \u001B[38;5;241m1\u001B[39m\n\u001B[1;32m---> 78\u001B[0m \u001B[43mf_3apoios\u001B[49m\u001B[43m(\u001B[49m\u001B[38;5;241;43m3\u001B[39;49m\u001B[43m,\u001B[49m\u001B[43m \u001B[49m\u001B[38;5;241;43m5\u001B[39;49m\u001B[43m,\u001B[49m\u001B[43m \u001B[49m\u001B[38;5;241;43m200\u001B[39;49m\u001B[43m,\u001B[49m\u001B[43m \u001B[49m\u001B[38;5;241;43m350\u001B[39;49m\u001B[43m,\u001B[49m\u001B[43m \u001B[49m\u001B[38;5;241;43m1.25\u001B[39;49m\u001B[43m)\u001B[49m\n",
      "Input \u001B[1;32mIn [4]\u001B[0m, in \u001B[0;36mf_3apoios\u001B[1;34m(L_span1, L_span2, q1, q2, load_factor)\u001B[0m\n\u001B[0;32m      7\u001B[0m EI \u001B[38;5;241m=\u001B[39m \u001B[38;5;241m5000\u001B[39m\n\u001B[0;32m      9\u001B[0m \u001B[38;5;66;03m# Estrutura\u001B[39;00m\n\u001B[1;32m---> 10\u001B[0m ss \u001B[38;5;241m=\u001B[39m \u001B[43mSystemElements\u001B[49m(load_factor\u001B[38;5;241m=\u001B[39m\u001B[38;5;241m1\u001B[39m,EA\u001B[38;5;241m=\u001B[39mEA, EI\u001B[38;5;241m=\u001B[39mEI)\n\u001B[0;32m     11\u001B[0m ss\u001B[38;5;241m.\u001B[39madd_element(location\u001B[38;5;241m=\u001B[39m[[\u001B[38;5;241m0\u001B[39m, \u001B[38;5;241m0\u001B[39m], [L_span1, \u001B[38;5;241m0\u001B[39m]])     \u001B[38;5;66;03m#Vão 1\u001B[39;00m\n\u001B[0;32m     12\u001B[0m ss\u001B[38;5;241m.\u001B[39madd_element(location\u001B[38;5;241m=\u001B[39m[[L_span1,\u001B[38;5;241m0\u001B[39m],[L,\u001B[38;5;241m0\u001B[39m]])        \u001B[38;5;66;03m#Vão 2\u001B[39;00m\n",
      "\u001B[1;31mNameError\u001B[0m: name 'SystemElements' is not defined"
     ]
    }
   ],
   "source": [
    "def f_3apoios(L_span1,L_span2,q1,q2,load_factor):\n",
    "     L = L_span1 + L_span2\n",
    "     q_span1 = load_factor * q1\n",
    "     q_span2 = load_factor * q2\n",
    "     q = q_span1 + q_span2\n",
    "     EA = 15000\n",
    "     EI = 5000\n",
    "\n",
    "     # Estrutura\n",
    "     ss = SystemElements(load_factor=1,EA=EA, EI=EI)\n",
    "     ss.add_element(location=[[0, 0], [L_span1, 0]])     #Vão 1\n",
    "     ss.add_element(location=[[L_span1,0],[L,0]])        #Vão 2\n",
    "\n",
    "     ss.add_support_hinged(node_id=1)                    #Suporte 1\n",
    "     ss.add_support_roll(node_id=2, direction=2)         #Suporte 2\n",
    "     ss.add_support_hinged(node_id=3)                    #Suporte 3\n",
    "     ss.q_load(element_id=[1], q=-q_span1, direction='element') #Carga Vão 1\n",
    "     ss.q_load(element_id=[2], q=-q_span2, direction='element') #Carga Vão 2\n",
    "\n",
    "     ss.solve()\n",
    "\n",
    "     fig=ss.show_structure(show=False,\n",
    "                         figsize=(12,5),\n",
    "                         scale=0.6)\n",
    "     plt.title(\"Diagrama da Estrutura\")\n",
    "     plt.xlabel(\"metros\")\n",
    "     plt.tight_layout()\n",
    "     plt.show()\n",
    "     # Apoios Força Vertical, Fy:\n",
    "     Fy_1=round(ss.get_node_results_system(node_id=1)[\"Fy\"],3)\n",
    "     Fy_2=round(ss.get_node_results_system(node_id=2)[\"Fy\"],3)\n",
    "     Fy_3=round(ss.get_node_results_system(node_id=3)[\"Fy\"],3)\n",
    "     x=var(\"x\",interval=(0, L))\n",
    "\n",
    "     def func_Fy(x):\n",
    "        if x == 0:\n",
    "            return Fy_1+ q_span1 * x\n",
    "        elif (x > 0) & (x < L_span1):\n",
    "            return Fy_1+ q_span1 * x\n",
    "        elif (x==L_span1):\n",
    "            return Fy_1+ q_span1*L_span1+ Fy_2\n",
    "        elif (x>L_span1) & (x<L):\n",
    "            return Fy_1+ q_span1*L_span1+Fy_2+q_span2*(x-L_span1)\n",
    "        else:\n",
    "            return 0\n",
    "\n",
    "     # Dimensão vão 1 para Mmax(+)\n",
    "     zero=np.max(solve(Eq(func_Fy(x),0),x))\n",
    "\n",
    "     # momento máximo negativo:\n",
    "     M_negativo=round(integrate(func_Fy(x),(x,0,L_span1)),2)\n",
    "\n",
    "     # Dimensão vão 2 para Mmax(+)\n",
    "     zero_1=L_span1+np.max(solve(Eq(func_Fy(L_span1)+q_span2*x),x))\n",
    "\n",
    "     # Momento Máximo (+) para vão 2\n",
    "     M_positivo_2=round(ss.get_element_results(element_id=2)[\"Mmin\"],3)\n",
    "\n",
    "\n",
    "     # Gráfico Momentos\n",
    "     fig=ss.show_bending_moment(show=False,\n",
    "                                   offset=(0,-1),\n",
    "                                   figsize=(12,5),\n",
    "                                   scale=0.6,\n",
    "                                   factor=.01)\n",
    "     plt.title(\"Diagrama do Momento Flector ($M$)\")\n",
    "     plt.xlabel(\"metros\")\n",
    "     plt.tight_layout()\n",
    "     plt.text(zero,0.2,f\"| {round(zero,3)} m\", fontsize=14)\n",
    "     plt.text(zero_1,0.2, f\"| {round(zero_1,3)} m\",fontsize=14)\n",
    "     plt.show()\n",
    "     print(\"A localização do Momento Máximo positivo no primeiro vão \"\n",
    "           \"ocorre aos {zero:.3} metros e é de {integrate(func_Fy(x),(x,0,zero)):.3} kNm\")\n",
    "     print(\"A localização do Momento Máximo positivo no segundo vão ocorre aos {zero_1:.3} metros\"\n",
    "           \" e é de {-M_positivo_2} kNm\")\n",
    "     print(\"O Momento máximo negativo é de {M_negativo} kNm\")\n",
    "     return 1\n",
    "f_3apoios(3, 5, 200, 350, 1.25)\n"
   ],
   "metadata": {
    "collapsed": false,
    "pycharm": {
     "name": "#%%\n"
    }
   }
  }
 ],
 "metadata": {
  "kernelspec": {
   "display_name": "Python 3",
   "language": "python",
   "name": "python3"
  },
  "language_info": {
   "codemirror_mode": {
    "name": "ipython",
    "version": 2
   },
   "file_extension": ".py",
   "mimetype": "text/x-python",
   "name": "python",
   "nbconvert_exporter": "python",
   "pygments_lexer": "ipython2",
   "version": "2.7.6"
  }
 },
 "nbformat": 4,
 "nbformat_minor": 0
}